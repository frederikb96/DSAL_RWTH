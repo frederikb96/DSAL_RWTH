{
 "cells": [
  {
   "cell_type": "markdown",
   "metadata": {
    "nbgrader": {
     "grade": false,
     "grade_id": "cell-2e9f551376e73eb9",
     "locked": true,
     "schema_version": 3,
     "solution": false,
     "task": false
    }
   },
   "source": [
    "# Datenstrukturen und Algorithmen - Einführung in Python \n",
    "Das folgende Notebook soll den Einstieg in Python vereinfachen.  \n",
    "Ausführlichere Erklärungen können Sie [hier](https://realpython.com/pointers-in-python/) und [hier](https://www.w3schools.com/python/default.asp) finden."
   ]
  },
  {
   "cell_type": "markdown",
   "metadata": {},
   "source": [
    "## Allgemeines \n",
    "\n",
    "Alles ist ein Objekt.   \n",
    "Zu jedem Objekt gehören im Allgemeinem 5 Informationen:\n",
    "\n",
    "* Name (Variablen Name)\n",
    "* Wert\n",
    "* Typ \n",
    "* Reference Count (für Garbage Collection)\n",
    "* ID (Speicherort des Objektes)"
   ]
  },
  {
   "cell_type": "markdown",
   "metadata": {},
   "source": [
    "## Variablen \n",
    "\n",
    "Es gibt keine Variablen Deklaration in Python. Eine Variable wird ab dem Moment angelegt wo ihr einen Wert zugewiesen wird.  \n",
    "Der Typ der Variablen hängt dabei vom zugewiesenen Wert ab.  \n",
    "Eine Variable kann auch den Typ ändern.  "
   ]
  },
  {
   "cell_type": "code",
   "execution_count": null,
   "metadata": {},
   "outputs": [],
   "source": [
    "#assigning values to variables\n",
    "x = 3       #interger \n",
    "y = 4.0     #float\n",
    "\n",
    "print(\"x is:\", x, \"of type\", type(x))\n",
    "print(\"y is:\", y, \"of type\", type(y))"
   ]
  },
  {
   "cell_type": "code",
   "execution_count": null,
   "metadata": {},
   "outputs": [],
   "source": [
    "#a variable can change type after being set\n",
    "z = \"Hello World\"\n",
    "print(\"z is:\", z, \"of type\", type(z))\n",
    "\n",
    "z = 7.\n",
    "print(\"z is:\", z, \"of type\", type(z))"
   ]
  },
  {
   "cell_type": "code",
   "execution_count": null,
   "metadata": {},
   "outputs": [],
   "source": [
    "#applying basic mathematic operators\n",
    "y = x + y    # addition\n",
    "y = x * y    # multiplication\n",
    "y = x / y    # float division\n",
    "y = x // y   # floor division\n",
    "x = x % 3    # modulo operator\n",
    "x = x**2     # exponent\n",
    "\n",
    "#shortcuts\n",
    "a = 1\n",
    "\n",
    "a += 1      #a = a + 1\n",
    "a *= 2      #a = 2 * a\n",
    "a //= 4     #a = a // 4"
   ]
  },
  {
   "cell_type": "code",
   "execution_count": null,
   "metadata": {},
   "outputs": [],
   "source": [
    "#Examples\n",
    "x = 7\n",
    "y = 3\n",
    "\n",
    "#effect of different operators\n",
    "print(x+y, x*y, x % y, x**y)"
   ]
  },
  {
   "cell_type": "markdown",
   "metadata": {},
   "source": [
    "Viele einfachen Typen so wie `int`, `float` oder `bool` sind immutable(unchangable).  \n",
    "Das bedeutet, dass beim Berechnen von x = x + y nicht der Wert von x geändert wird, sondern ein neues Objekt erstellt wird, das dann dem Namen x zugewiesen wird. (Copy on modify)"
   ]
  },
  {
   "cell_type": "code",
   "execution_count": null,
   "metadata": {},
   "outputs": [],
   "source": [
    "#Copy on modifiy\n",
    "x = 2\n",
    "print(type(x), id(x))\n",
    "\n",
    "x = x + 2\n",
    "print(type(x), id(x))"
   ]
  },
  {
   "cell_type": "code",
   "execution_count": null,
   "metadata": {},
   "outputs": [],
   "source": [
    "#explanation of global state of jupyter notebooks\n",
    "global_variable = 3 #even if this line is not executed in the second run x will be 3 \n",
    "print(global_variable)"
   ]
  },
  {
   "cell_type": "markdown",
   "metadata": {},
   "source": [
    "## Datenstrukturen\n",
    "\n",
    "### Tupel \n",
    "Tupel werden mit Klammern initialisiert: `()`  \n",
    "Tupel sind nicht veränderbar.  \n",
    "Elemente von Tupeln haben eine Reihenfolge.  \n",
    "Man kann durch einen Index auf ein spezifisches Element zugreifen. Der erste Index ist 0."
   ]
  },
  {
   "cell_type": "code",
   "execution_count": null,
   "metadata": {},
   "outputs": [],
   "source": [
    "fruits = (\"apple\", \"banana\", \"coconut\")\n",
    "#fruits[0] = \"ananas\"  #tuple are unchangable/immutable"
   ]
  },
  {
   "cell_type": "code",
   "execution_count": null,
   "metadata": {},
   "outputs": [],
   "source": [
    "#output value using print()\n",
    "#access item by indexing\n",
    "print(\"the first item in fruits is:\", fruits[0])\n",
    "print(fruits)"
   ]
  },
  {
   "cell_type": "markdown",
   "metadata": {},
   "source": [
    "### Listen\n",
    "Listen werden mit eckigen Klammern initialisiert: `[]`  \n",
    "Listen sind veränderbar.  \n",
    "Elemente von Listen haben eine Reihenfolge.  \n",
    "Man kann durch einen Index auf ein spezifisches Element zugreifen. Der erste Index ist 0.  \n",
    "In einer Liste können verschiedene Datentypen vorhanden sein. \n",
    "\n",
    "Schlüsselwörter: \n",
    "* insert\n",
    "* append\n",
    "* extend \n",
    "* remove \n",
    "* pop \n",
    "* len\n",
    "* ... "
   ]
  },
  {
   "cell_type": "code",
   "execution_count": null,
   "metadata": {},
   "outputs": [],
   "source": [
    "fruits = [\"apple\", \"banana\", \"coconut\"]\n",
    "print(fruits)\n",
    "\n",
    "fruits[0] = \"ananas\" #lists are changable\n",
    "print(fruits)"
   ]
  },
  {
   "cell_type": "code",
   "execution_count": null,
   "metadata": {},
   "outputs": [],
   "source": [
    "#predefined functions, example: len \n",
    "print(\"length of fruits is:\", len(fruits))"
   ]
  },
  {
   "cell_type": "markdown",
   "metadata": {},
   "source": [
    "Slicing erlaubt schnell auf bestimmte Teile einer Liste zuzugreifen.  \n",
    "Eine genauere Erklärung können Sie [hier](https://stackoverflow.com/questions/509211/understanding-slice-notation) finden. "
   ]
  },
  {
   "cell_type": "code",
   "execution_count": null,
   "metadata": {},
   "outputs": [],
   "source": [
    "#use slicing to access only parts of the list\n",
    "list = [0, 1, 2, 3, 4, 5, 6, 7, 8, 9, 10]\n",
    "print(list[2])"
   ]
  },
  {
   "cell_type": "code",
   "execution_count": null,
   "metadata": {},
   "outputs": [],
   "source": [
    "print(list[-3])"
   ]
  },
  {
   "cell_type": "code",
   "execution_count": null,
   "metadata": {},
   "outputs": [],
   "source": [
    "#start:stop:step\n",
    "print(list[:]) #copy of the entire list"
   ]
  },
  {
   "cell_type": "code",
   "execution_count": null,
   "metadata": {},
   "outputs": [],
   "source": [
    "print(list[1:]) "
   ]
  },
  {
   "cell_type": "code",
   "execution_count": null,
   "metadata": {},
   "outputs": [],
   "source": [
    "print(list[:-2])"
   ]
  },
  {
   "cell_type": "code",
   "execution_count": null,
   "metadata": {},
   "outputs": [],
   "source": [
    "print(list[::2])"
   ]
  },
  {
   "cell_type": "code",
   "execution_count": null,
   "metadata": {},
   "outputs": [],
   "source": [
    "print(list[2:-3:3])"
   ]
  },
  {
   "cell_type": "markdown",
   "metadata": {},
   "source": [
    "Listen können mit dem `+`-Operator konkateniert werden. "
   ]
  },
  {
   "cell_type": "code",
   "execution_count": null,
   "metadata": {},
   "outputs": [],
   "source": [
    "#joining lists by +\n",
    "a = [1,2,3]\n",
    "b = [4,5,6]\n",
    "\n",
    "print(a + b)"
   ]
  },
  {
   "cell_type": "code",
   "execution_count": null,
   "metadata": {},
   "outputs": [],
   "source": [
    "#shorthand notation \n",
    "a += b # a = a + b\n",
    "print(a)"
   ]
  },
  {
   "cell_type": "code",
   "execution_count": null,
   "metadata": {},
   "outputs": [],
   "source": [
    "#joining is only defined on lists \n",
    "#b += 7 #produces error\n",
    "b += [7] #correct way\n",
    "\n",
    "print(b)"
   ]
  },
  {
   "cell_type": "code",
   "execution_count": null,
   "metadata": {},
   "outputs": [],
   "source": [
    "#lists are mutable\n",
    "a = [2,7,1]\n",
    "print(\"the id of a is:\", id(a))\n",
    "\n",
    "a[1] = 0\n",
    "a += [0]\n",
    "\n",
    "print(\"the id of a is:\", id(a))"
   ]
  },
  {
   "cell_type": "markdown",
   "metadata": {},
   "source": [
    "### Mengen\n",
    "Mengen werden mit geschwungenen Klammern initialisiert: `{}`  \n",
    "Element von Mengen sind unveränderbar, aber es können neue Elemenet hinzugefügt/gelöscht werden.    \n",
    "Elemente von Listen haben keine Reihenfolge.  \n",
    "In Mengen kommen keine Duplikate vor.\n",
    "\n",
    "Schlüsselwörter: \n",
    "* add\n",
    "* union\n",
    "* remove \n",
    "* pop\n",
    "* clear \n",
    "* ..."
   ]
  },
  {
   "cell_type": "code",
   "execution_count": null,
   "metadata": {},
   "outputs": [],
   "source": [
    "fruits = {\"apple\", \"banana\", \"coconut\", \"apple\"}\n",
    "print(fruits) # no duplicates and not ordered"
   ]
  },
  {
   "cell_type": "code",
   "execution_count": null,
   "metadata": {},
   "outputs": [],
   "source": [
    "fruits.add(\"orange\")\n",
    "print(fruits)"
   ]
  },
  {
   "cell_type": "code",
   "execution_count": null,
   "metadata": {},
   "outputs": [],
   "source": [
    "fruits.remove(\"orange\")\n",
    "print(fruits)"
   ]
  },
  {
   "cell_type": "code",
   "execution_count": null,
   "metadata": {},
   "outputs": [],
   "source": [
    "#joining sets\n",
    "fruits = {\"apple\", \"banana\", \"coconut\"}\n",
    "vegetables = {\"aspergus\", \"broccoli\", \"carrots\", \"ginger\"}\n",
    "\n",
    "food = fruits.union(vegetables)\n",
    "print(food)"
   ]
  },
  {
   "cell_type": "markdown",
   "metadata": {},
   "source": [
    "### Wörterbücher/Dictionaries\n",
    "Wörterbücher werden mit geschwungenen Klammern initialisiert: `{}`. Die Elemente sind hier aber Paare: `Schlüssel:Wert`  \n",
    "Die Elemente von Wörterbüchern sind veränderbar.   \n",
    "Elemente von Wörterbüchern haben eine Reihenfolge (ab Python 3.7).  \n",
    "In einem Wörterbuch kommen keine Duplikate vor.  \n",
    "\n",
    "Schlüsselwörter: \n",
    "* get\n",
    "* keys\n",
    "* update\n",
    "* pop\n",
    "* ..."
   ]
  },
  {
   "cell_type": "code",
   "execution_count": null,
   "metadata": {},
   "outputs": [],
   "source": [
    "car = {\n",
    "  \"brand\": \"Ford\",\n",
    "  \"model\": \"Mustang\",\n",
    "  \"year\": 1964\n",
    "}\n",
    "print(car)"
   ]
  },
  {
   "cell_type": "code",
   "execution_count": null,
   "metadata": {},
   "outputs": [],
   "source": [
    "car =\t{\n",
    "  \"brand\": \"Ford\",\n",
    "  \"model\": \"Mustang\",\n",
    "  \"year\": 1964,\n",
    "  \"year\": 2020              #duplicates overwrite old values\n",
    "}\n",
    "print(car)"
   ]
  },
  {
   "cell_type": "code",
   "execution_count": null,
   "metadata": {},
   "outputs": [],
   "source": [
    "#access item \n",
    "print(car[\"model\"])"
   ]
  },
  {
   "cell_type": "code",
   "execution_count": null,
   "metadata": {},
   "outputs": [],
   "source": [
    "#change item\n",
    "car[\"year\"] = 1972\n",
    "print(car)\n",
    "\n",
    "car.update({\"model\": \"Focus\"})\n",
    "print(car)"
   ]
  },
  {
   "cell_type": "code",
   "execution_count": null,
   "metadata": {},
   "outputs": [],
   "source": [
    "#add item \n",
    "car[\"color\"] = \"red\"\n",
    "print(car)\n",
    "\n",
    "car.update({\"license plate\": \"XXX 123456\"})\n",
    "print(car)"
   ]
  },
  {
   "cell_type": "markdown",
   "metadata": {},
   "source": [
    "## Syntax \n",
    "\n",
    "Das Einrücken ist bei Python, anders als bei Java oder C/C++, Teil der Syntax und ersetzt das Verwenden von Klammern um einen Scope/Geltungsbereich zu definieren.\n",
    "\n",
    "## Bedingungen\n",
    "Logische Operatoren:\n",
    "\n",
    "* == \n",
    "* != \n",
    "* < oder <= \n",
    "* \\> oder >= \n",
    "\n",
    "Schlüsselwörter bei Konditionen:\n",
    "\n",
    "* not\n",
    "* and\n",
    "* or\n",
    "\n",
    "## If-Else Statement\n",
    "If-Else Statements werden benutzt um Anweisungen nur dann auszuführen wenn bestimmte Bedingungen erfüllt sind.\n",
    "\n",
    "Schlüsselwörter:\n",
    "\n",
    "* if \n",
    "* elif\n",
    "* else\n",
    "* pass"
   ]
  },
  {
   "cell_type": "code",
   "execution_count": null,
   "metadata": {},
   "outputs": [],
   "source": [
    "x = 10.0\n",
    "y = 20.0\n",
    "\n",
    "#conditions used in if-else statement\n",
    "condition_val =  x == y\n",
    "condition_val =  x != y\n",
    "condition_val =  x >  y\n",
    "condition_val =  x >= y\n",
    "condition_val =  x <  y\n",
    "condition_val =  x <= y"
   ]
  },
  {
   "cell_type": "code",
   "execution_count": null,
   "metadata": {},
   "outputs": [],
   "source": [
    "#example\n",
    "x = 10.0\n",
    "y = 20.0\n",
    "\n",
    "condition_val =  x <= y\n",
    "\n",
    "if not condition_val : \n",
    "    print(\"condition was fulfilled\")    #indentation is part of syntax\n",
    "    print(x)"
   ]
  },
  {
   "cell_type": "code",
   "execution_count": null,
   "metadata": {},
   "outputs": [],
   "source": [
    "if x <= y and x % 2 == 0 :              #combination of two conditions by keyword *and*\n",
    "    print(\"x is smaller than y and x is even\")"
   ]
  },
  {
   "cell_type": "code",
   "execution_count": null,
   "metadata": {},
   "outputs": [],
   "source": [
    "#shorthand syntax\n",
    "if x <= y : x += 2.0\n",
    "print(x)"
   ]
  },
  {
   "cell_type": "code",
   "execution_count": null,
   "metadata": {},
   "outputs": [],
   "source": [
    "#shorthand assignment\n",
    "x = 2 if x < 0 else -2\n",
    "print(x)"
   ]
  },
  {
   "cell_type": "code",
   "execution_count": null,
   "metadata": {},
   "outputs": [],
   "source": [
    "#if-statments can not be empty. If you want to enforce no operation use *pass*\n",
    "if x != y :\n",
    "    pass\n",
    "else :\n",
    "    print(\" x equals y\")"
   ]
  },
  {
   "cell_type": "code",
   "execution_count": null,
   "metadata": {},
   "outputs": [],
   "source": [
    "#if-else-statement\n",
    "x = 5\n",
    "\n",
    "if x == 3:\n",
    "    print(\"foo\")\n",
    "elif x > 3:\n",
    "    print(\"bar:\", x)\n",
    "else:\n",
    "    print(\"-------\")"
   ]
  },
  {
   "cell_type": "code",
   "execution_count": null,
   "metadata": {},
   "outputs": [],
   "source": [
    "#nested if statement (Verschachtelung)\n",
    "x = 42\n",
    "\n",
    "if x > 10:\n",
    "  print(\"x is above ten,\")\n",
    "  if x > 20:\n",
    "    print(\"and also above 20!\")\n",
    "  else:\n",
    "    print(\"but not above 20.\")"
   ]
  },
  {
   "cell_type": "markdown",
   "metadata": {},
   "source": [
    "## For-Schleife\n",
    "\n",
    "Faustregel: eine For-Schleife wird immer dann verwendet, wenn eine Anweisung mehrfach ausgführt werden soll und von vorne herein klar ist wie oft.\n",
    "\n",
    "Schlüsselwörter: \n",
    "* for \n",
    "* in\n",
    "\n",
    "Schlüsserwörter zur Definition der Widerholungen:\n",
    "* range \n",
    "\n",
    "Andere Schlüsselwörter: \n",
    "* break\n",
    "* continue\n",
    "* else\n",
    "* pass"
   ]
  },
  {
   "cell_type": "code",
   "execution_count": null,
   "metadata": {},
   "outputs": [],
   "source": [
    "#loops can be defined over all the basic data types\n",
    "for i in (0, 1, 2): #Iteration over tupel\n",
    "    print(i)\n",
    "\n",
    "for i in [0, 1, 2]:\n",
    "  pass #for loops can not be empty\n",
    "\n",
    "for i in {0, 1, 2}:\n",
    "  print(i)"
   ]
  },
  {
   "cell_type": "code",
   "execution_count": null,
   "metadata": {},
   "outputs": [],
   "source": [
    "#loop over dict key \n",
    "dict = {\"k0\":\"v0\", \"k1\":\"v1\", \"k2\":\"v2\"}\n",
    "\n",
    "for i in dict:\n",
    "  print(\"the key is:\",  i, \"and the value is:\", dict.get(i))\n",
    "\n",
    "print(\"----------------------------------\")\n",
    "\n",
    "#loop over (key,value)-tupel\n",
    "for key, value in dict.items(): #.items(): liste von tupeln\n",
    "  print(\"the key is:\",  key, \"and the value is:\", value)"
   ]
  },
  {
   "cell_type": "code",
   "execution_count": null,
   "metadata": {},
   "outputs": [],
   "source": [
    "#using break to leave early\n",
    "fruits = [\"apple\", \"banana\", \"cherry\"]\n",
    "\n",
    "for x in fruits:\n",
    "  print(x)\n",
    "  if x == \"banana\":\n",
    "    break"
   ]
  },
  {
   "cell_type": "code",
   "execution_count": null,
   "metadata": {},
   "outputs": [],
   "source": [
    "#use else case after loop\n",
    "for x in (0, 1, 2, 3, 4):\n",
    "  if x == 3: break  #the else-case is not executed whenever we break in a loop.\n",
    "  print(x)\n",
    "else:\n",
    "  print(\"Finally finished!\")"
   ]
  },
  {
   "cell_type": "markdown",
   "metadata": {},
   "source": [
    "Der Befehl [`range()`](https://www.w3schools.com/python/ref_func_range.asp) kann benutzt werden um Sequenzen von Werten zu generieren. Über diese Sequenz kann dann in einer For-Schleife iteriert werden. "
   ]
  },
  {
   "cell_type": "code",
   "execution_count": null,
   "metadata": {},
   "outputs": [],
   "source": [
    "#range(start, stop, step)\n",
    "for i in range(2, 10, 2) :\n",
    "    print(i)"
   ]
  },
  {
   "cell_type": "markdown",
   "metadata": {},
   "source": [
    "Der Befehl [enumerate()](https://www.w3schools.com/python/ref_func_enumerate.asp) fügt einen Counter zu jedem übergebenen Objekt hinzu.  \n",
    "Dies kann nützlich sein, wenn man mit Indizes auf Objekte zugreifen möchte. "
   ]
  },
  {
   "cell_type": "code",
   "execution_count": null,
   "metadata": {},
   "outputs": [],
   "source": [
    "d = {} # or dict()\n",
    "l = []\n",
    "s = set()\n",
    "\n",
    "for i,j in enumerate(range(7,7+5)):  #counter i from 0 to 4 and object j from 7 to 11\n",
    "    d[i] = j\n",
    "    l.append(i)\n",
    "    s.add(j)\n",
    "\n",
    "print(d, l, s)"
   ]
  },
  {
   "cell_type": "markdown",
   "metadata": {},
   "source": [
    "## List Comprehensions\n",
    "\n",
    "Neue Listen können ganz schnell mit List Comprehensions erstellt werden, dabei sind For-Schleifen sehr nützlich. "
   ]
  },
  {
   "cell_type": "code",
   "execution_count": null,
   "metadata": {},
   "outputs": [],
   "source": [
    "list = [2,4,8,10]\n",
    "list2 = [i**2 for i in list]\n",
    "print(list2)"
   ]
  },
  {
   "cell_type": "code",
   "execution_count": null,
   "metadata": {},
   "outputs": [],
   "source": [
    "fruits = [\"apple\", \"banana\", \"cherry\", \"kiwi\", \"mango\"]\n",
    "fruits_with_a = [x for x in fruits if \"a\" in x]\n",
    "print(fruits_with_a) "
   ]
  },
  {
   "cell_type": "markdown",
   "metadata": {},
   "source": [
    "Bemerkung: Selbes gilt für Wörterbücher(Dict Comprehensions)"
   ]
  },
  {
   "cell_type": "markdown",
   "metadata": {},
   "source": [
    "## Besonderheiten von Listen (Pitfalls)"
   ]
  },
  {
   "cell_type": "code",
   "execution_count": null,
   "metadata": {},
   "outputs": [],
   "source": [
    "#shortcut for assigning lists\n",
    "b = 4*[0, 1]\n",
    "print(b)"
   ]
  },
  {
   "cell_type": "code",
   "execution_count": null,
   "metadata": {},
   "outputs": [],
   "source": [
    "b[2] = 4\n",
    "print(b)"
   ]
  },
  {
   "cell_type": "code",
   "execution_count": null,
   "metadata": {},
   "outputs": [],
   "source": [
    "#caution\n",
    "c = 3*[3*[0]] #think of it as 3 * pointer_to_list_[0, 0, 0]/list of mutables\n",
    "print(c)"
   ]
  },
  {
   "cell_type": "code",
   "execution_count": null,
   "metadata": {},
   "outputs": [],
   "source": [
    "c[0][0] = 1\n",
    "print(c) #due to pointers all 3 lists have now a changed"
   ]
  },
  {
   "cell_type": "code",
   "execution_count": null,
   "metadata": {},
   "outputs": [],
   "source": [
    "c[2] = \"Apfelkuchen\" #replaces pointer\n",
    "print(c)"
   ]
  },
  {
   "cell_type": "code",
   "execution_count": null,
   "metadata": {},
   "outputs": [],
   "source": [
    "#correct way to assign matrix: list comprehensions\n",
    "#remark: a better way is to use numpy for matrices/higher dimensional objects\n",
    "d = [x[:] for x in 3*[ 3*[0]]] #force copy\n",
    "\n",
    "d[0][0] = 1\n",
    "print(d)"
   ]
  },
  {
   "cell_type": "markdown",
   "metadata": {},
   "source": [
    "## While-Schleife\n",
    "\n",
    "Faustregel: eine While-Schleife wird immer dann verwendet, wenn eine Anweisung mehrfach ausgführt werden soll aber nicht klar ist wie oft (zB. weil die Anzahl der Elemente variieren kann)\n",
    "\n",
    "Schlüsselwort: \n",
    "* while\n",
    "\n",
    "Andere Schlüsselwörter: \n",
    "* break\n",
    "* continue"
   ]
  },
  {
   "cell_type": "code",
   "execution_count": null,
   "metadata": {},
   "outputs": [],
   "source": [
    "i = 0.0\n",
    "while i < 6.0:\n",
    "  i += 1.25\n",
    "  if i > 2.0 and i < 4.0:\n",
    "    continue\n",
    "  print(i)\n",
    "else:\n",
    "  print(\"i is no longer less than 6\")"
   ]
  },
  {
   "cell_type": "markdown",
   "metadata": {},
   "source": [
    "## Funktionen\n",
    "\n",
    "In Python können Funktionen mit dem Schlüsselwort `def` definiert werden.  \n",
    "Der Rumpf der Funktion muss hierbei eingerückt werden. Dies Ermöglicht es dem Compiler das Ende der Funktion zu identifizieren.  \n",
    "Einer Funktion können auch Variabeln als Argumente mit übergeben werden. \n"
   ]
  },
  {
   "cell_type": "code",
   "execution_count": null,
   "metadata": {},
   "outputs": [],
   "source": [
    "def add(x, y) :\n",
    "    print(f\"x is {x} and y is {y}\")\n",
    "    return x + y\n",
    "\n",
    "x = 10.2\n",
    "y = 17.3\n",
    "print(add(x,y))\n"
   ]
  },
  {
   "cell_type": "code",
   "execution_count": null,
   "metadata": {},
   "outputs": [],
   "source": [
    "#special cases\n",
    "def hello_world() :\n",
    "    print(\"Hello World!\")\n",
    "\n",
    "y = hello_world()\n",
    "print(y)"
   ]
  },
  {
   "cell_type": "code",
   "execution_count": null,
   "metadata": {},
   "outputs": [],
   "source": [
    "y = hello_world #without () assigns the function to y // does not execute hello_world\n",
    "print(y)\n",
    "\n",
    "y() #everything is an object"
   ]
  },
  {
   "cell_type": "markdown",
   "metadata": {},
   "source": [
    "## Lambda Funktionen\n",
    "\n",
    "Lambda Funktionen sind kleine anonyme Funktionen. Dabei ist die Anzahl der übergebenen Argumente beliebig, allerdings ist nur ein Ausdruck erlaubt. "
   ]
  },
  {
   "cell_type": "code",
   "execution_count": null,
   "metadata": {},
   "outputs": [],
   "source": [
    "x = lambda a : a + 10\n",
    "print(x(5)) "
   ]
  },
  {
   "cell_type": "code",
   "execution_count": null,
   "metadata": {},
   "outputs": [],
   "source": [
    "x = lambda a, b, c : a + b + c\n",
    "print(x(5, 6, 2))\n",
    "\n",
    "print(x([7,3],[7,3], [7,3]))"
   ]
  },
  {
   "cell_type": "markdown",
   "metadata": {},
   "source": [
    "## Klassen\n",
    "\n",
    "In Python können Klassen mit dem Schlüsselwort `class` definiert werden.  \n",
    "Die Definition von Klassen muss, wie bei Funktionen, eingerückt werden.  \n",
    "Der erste Parameter einer Funktion muss die Referenz auf die aktuelle Instanz sein. Per Konvention wird `self` verwendet.  \n",
    "Die Konstructor-Funktion heißt immer `__init__`.   \n",
    "Eine Repräsentation die auf der Konsole ausgegeben werden kann wird in der Funktion `__repr__` definiert. Diese Funktion hat als Rückgabewert immer einen String.  "
   ]
  },
  {
   "cell_type": "code",
   "execution_count": null,
   "metadata": {},
   "outputs": [],
   "source": [
    "class Fruit:\n",
    "    amount_of_sugar = 2.5 #g #static attribute\n",
    "\n",
    "    def __init__(self, weight, color):\n",
    "        self.weight = weight \n",
    "        self.color = color\n",
    "        \n",
    "    def is_tasty(self):\n",
    "        return  not self.color == \"green\"\n",
    "\n",
    "    def is_healty(self):  #you can replace self by any other name\n",
    "        return True\n",
    "\n",
    "    def __repr__(self):\n",
    "        return f\"weight = {self.weight}, color = {self.color}, amount of sugar = {self.amount_of_sugar}g\" #f-String syntax for formatting strings\n"
   ]
  },
  {
   "cell_type": "code",
   "execution_count": null,
   "metadata": {},
   "outputs": [],
   "source": [
    "f = Fruit(2, \"blue\") #f is instance of class Fruit"
   ]
  },
  {
   "cell_type": "code",
   "execution_count": null,
   "metadata": {},
   "outputs": [],
   "source": [
    "print(f\"Is this fruit tasty? - {f.is_tasty()}\")"
   ]
  },
  {
   "cell_type": "code",
   "execution_count": null,
   "metadata": {},
   "outputs": [],
   "source": [
    "print(f\"Is this fruit healty? - {f.is_healty()}\")"
   ]
  },
  {
   "cell_type": "code",
   "execution_count": null,
   "metadata": {},
   "outputs": [],
   "source": [
    "print(f)"
   ]
  },
  {
   "cell_type": "code",
   "execution_count": null,
   "metadata": {},
   "outputs": [],
   "source": [
    "print(f.amount_of_sugar)\n",
    "print(Fruit.amount_of_sugar) #static attribute"
   ]
  },
  {
   "cell_type": "markdown",
   "metadata": {},
   "source": [
    "# Module importieren\n",
    "\n",
    "Durch importieren von Modulen kann man auch zahlreiche Funktionalitäten zugreifen die das Programmieren mit Python vereinfachen und verschnellern. "
   ]
  },
  {
   "cell_type": "code",
   "execution_count": null,
   "metadata": {},
   "outputs": [],
   "source": [
    "import math\n",
    "\n",
    "print(math.floor(2.5))"
   ]
  }
 ],
 "metadata": {
  "celltoolbar": "Create Assignment",
  "kernelspec": {
   "display_name": "Python 3.7.9 64-bit ('dsal': conda)",
   "name": "python379jvsc74a57bd0547c114a8eef8ad3c5b761cf221a4d3afb6535da2b2ba4a63617707fc7fbdff3"
  },
  "language_info": {
   "name": "python",
   "version": ""
  },
  "varInspector": {
   "cols": {
    "lenName": 16,
    "lenType": 16,
    "lenVar": 40
   },
   "kernels_config": {
    "python": {
     "delete_cmd_postfix": "",
     "delete_cmd_prefix": "del ",
     "library": "var_list.py",
     "varRefreshCmd": "print(var_dic_list())"
    },
    "r": {
     "delete_cmd_postfix": ") ",
     "delete_cmd_prefix": "rm(",
     "library": "var_list.r",
     "varRefreshCmd": "cat(var_dic_list()) "
    }
   },
   "types_to_exclude": [
    "module",
    "function",
    "builtin_function_or_method",
    "instance",
    "_Feature"
   ],
   "window_display": false
  }
 },
 "nbformat": 4,
 "nbformat_minor": 4
}
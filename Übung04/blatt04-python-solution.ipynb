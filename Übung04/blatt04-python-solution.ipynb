{
 "cells": [
  {
   "cell_type": "markdown",
   "metadata": {},
   "source": [
    "# Datenstrukturen und Algorithmen\n",
    "\n",
    "## Praktische Aufgabe 2\n",
    "\n",
    "In dieser praktischen Aufgabe werden Sie sich mit Dynamischen Programmieren, sowie einfachen Sortierverfahren beschäftigen.\n",
    "Diese Aufgabe dient dazu die Konzepte aus der Vorlesung zu festigen und soll Ihnen dabei helfen ein Gefühl für die Funktionsweise der Sortieralgorithmen zu entwickeln. \n",
    "\n",
    "Die Abgaben werden mit der `nbgrader` Erweiterung korrigiert. Das System erwartet, dass der Code zum Lösen der Aufgaben nach der `#YOUR CODE HERE` Anweisung kommt. Außerdem darf die Zellenreihenfolge nicht geändert werden. Damit Sie selbst Ihre Lösungsvorschläge validieren können, werden Ihnen Unittests zur Verfügung gestellt. Beachten Sie, dass diese Tests keine Garantie sind für das Erreichen der vollen Punktzahl, da Sie nur einen Teil der Funktionalität überprüfen.\n",
    "\n",
    "Wichtig: Füllen Sie auch die Zelle mit ihrem Abgabeteam vollständig aus. Bitte verändern Sie nicht den Namen der Datei, damit das System die Abgabe automatisch bewerten kann.\n",
    "\n",
    "**Übersicht der Aufgaben** (20 Punkte):\n",
    "\n",
    "1. **Dynamisches Programmieren** - insgesamt: 10 Punkte\n",
    "   - Matrix-Multiplikation - 10P.\n",
    "\n",
    "2. **Einfach Sortierverfahren** - insgesamt: 10 Punkte\n",
    "   - Selection-Sort - 4P.\n",
    "   - Insertion-Sort - 4P.\n",
    "   - Vergleich von Operationen - 2P.\n"
   ]
  },
  {
   "cell_type": "markdown",
   "metadata": {
    "nbgrader": {
     "grade": true,
     "grade_id": "cell-7cf23d3c77998e55",
     "locked": false,
     "points": 0,
     "schema_version": 3,
     "solution": true,
     "task": false
    }
   },
   "source": [
    "## Abgabeteam\n",
    "Bitte füllen Sie die untenstehende Zelle aus mit \n",
    "\n",
    "Nummer des Tutoriums,\n",
    "\n",
    "Voranme Nachname Matrikelnummer 1,\n",
    "\n",
    "Vorname Nachname Matrikelnummer 2,\n",
    "\n",
    "(Vorname Nachname Matrikelnummer 3)"
   ]
  },
  {
   "cell_type": "markdown",
   "metadata": {},
   "source": [
    "Tutorium Musterlösung\n",
    "\n",
    "Max Mustermann 123456\n",
    "\n",
    "Erika Mustermann 123457\n",
    "\n",
    "(Paul Mustermann 123458)"
   ]
  },
  {
   "cell_type": "markdown",
   "metadata": {},
   "source": [
    "## Module importieren\n",
    "Zuerst werden die benötigten Module importiert. Sie dürfen keine weiteren Module impotieren.\n",
    "\n",
    "Wenn in Ihrer Entwickungsumbegung (z.B Deepnote) bestimmte Module nicht verfügbar sind, dann kommentieren Sie die erste Zeile aus um die Module temporär in der Umgebung zu installieren. "
   ]
  },
  {
   "cell_type": "code",
   "execution_count": 1,
   "metadata": {},
   "outputs": [],
   "source": [
    "#!pip install pandas, rwth_nb, nose\n",
    "\n",
    "# unittests\n",
    "from nose.tools import assert_equal\n",
    "\n",
    "# measuring time\n",
    "from time import time\n",
    "\n",
    "# random numbers\n",
    "from random import randint\n",
    "\n",
    "# plotting\n",
    "import pandas as pd\n",
    "import rwth_nb.plots.mpl_decorations as rwth_plt"
   ]
  },
  {
   "cell_type": "markdown",
   "metadata": {},
   "source": [
    "# Dynamisches Programmieren\n",
    "\n",
    "Im Folgenden sollen Sie den in der Vorlesung vorgestellten Code modifizieren, um nicht nur die minimale Anzahl an Skalarmultiplikationen auszurechnen, sondern auch die korrekte Klammerung auszugeben."
   ]
  },
  {
   "cell_type": "markdown",
   "metadata": {},
   "source": [
    "## a) matrix_multiplication() - 10P.\n",
    "\n",
    "Erweitern Sie den in der Vorlesung vorgestellten Code um eine Matrix `S`, in der Sie zusätzliche speichern, welche Kombination der Teillösungen Sie in jeder Teillösung ausgewählt haben. Diese Matrix soll für jede Teillösung die Klammerung der Matritzen mit ihren Namen speichern, die zu einer minimalen Anzahl an Skalarmultiplikationen führt.\n",
    "\n",
    "Bitte beachten Sie zusätzlich, dass Sie jetzt nicht einen Vektor `r` als Eingabe bekommen, sondern ein Dictionary `R` in dem der Name, sowie die Dimension der Matrix als Key und Value angegeben werden. Initialisieren Sie zunächst den Vektor `r`, sowie die Matritzen `M` und `S` mit der richtigen Werten, bevor Sie mit der Berechnung beginnen. Die Matritzen in `R` sollen der Reihe nach miteinander multipliziert werden. Die Matrix `S` soll die Namen der Matritzen, sowie deren korrekte Klammerung beinhalten. Geben Sie am Ende der Berechnung sowohl die Matrix `M`, als auch `S` aus.\n",
    "\n",
    "Die folgende Abbildung zeigt das Verhalten der Funktion _matrix_multiplication()_ an einem Beispiel:\n",
    "```\n",
    "Eingabe:\n",
    "R = {'A': (10, 1), 'B': (1, 10), 'C': (10, 1)}\n",
    "\n",
    "Ausgabe:\n",
    "M = [[0, 100, 20], [None, 0, 10], [None, None, 0]]\n",
    "S = [['A', '(AB)', '(A(BC))'], [None, 'B', '(BC)'], [None, None, 'C']]\n",
    "\n",
    "\n",
    "Eingabe:\n",
    "R = {'A': (30, 1), 'B': (1, 40), 'C': (40, 10), 'D': (10, 25)}\n",
    "\n",
    "Ausgabe:\n",
    "M = [[0, 1200, 700, 1400], [None, 0, 400, 650], [None, None, 0, 10000], [None, None, None, 0]]\n",
    "S = [['A', '(AB)', '(A(BC))', '(A((BC)D))'], [None, 'B', '(BC)', '((BC)D)'], [None, None, 'C', '(CD)'], [None, None, None, 'D']]\n",
    "```\n",
    "\n",
    "Sie dürfen/sollen in dieser Aufgabe die Listen benutzen die von Python zur Verfügung gestellt werden."
   ]
  },
  {
   "cell_type": "code",
   "execution_count": 2,
   "metadata": {},
   "outputs": [],
   "source": [
    "def matrix_multiplication(R):\n",
    "    n = len(R)    \n",
    "    M = [x[:] for x in n * [n * [None]]]\n",
    "    S = [x[:] for x in n * [n * [None]]]\n",
    "\n",
    "    ### BEGIN SOLUTION\n",
    "    r = [x[0] for x in R.values()] + [list(R.values())[-1][1]]\n",
    "    for i in range(n):\n",
    "        M[i][i] = 0\n",
    "        S[i][i] = list(R)[i]\n",
    "\n",
    "    for k in range(1, n):\n",
    "        for i in range(n - k):\n",
    "            val = float('inf')\n",
    "            mat = None\n",
    "            for j in range(i, i + k):\n",
    "                new_val = M[i][j] + M[j + 1][i + k] + r[i] * r[j + 1] * r[i + k + 1]\n",
    "                if new_val < val: \n",
    "                    val = new_val\n",
    "                    mat = '(' + S[i][j] + S[j + 1][i + k] + ')'\n",
    "\n",
    "            M[i][i + k] = val\n",
    "            S[i][i + k] = mat\n",
    "    ### END SOLUTION\n",
    "\n",
    "    return M, S"
   ]
  },
  {
   "cell_type": "code",
   "execution_count": 3,
   "metadata": {},
   "outputs": [],
   "source": [
    "#general case\n",
    "#test1\n",
    "R = {\n",
    "    \"A\": (10, 1),\n",
    "    \"B\": (1, 10),\n",
    "    \"C\": (10, 1),\n",
    "}\n",
    "M, S = matrix_multiplication(R)\n",
    "M_groundtruth = [[0, 100, 20], [None, 0, 10], [None, None, 0]]\n",
    "S_groundtruth = [['A', '(AB)', '(A(BC))'], [None, 'B', '(BC)'], [None, None, 'C']]\n",
    "assert_equal(str(M), str(M_groundtruth))\n",
    "assert_equal(str(S), str(S_groundtruth))\n",
    "\n",
    "\n",
    "#test2\n",
    "R = {\n",
    "    \"A\": (20, 5),\n",
    "    \"B\": (5, 70),\n",
    "    \"C\": (70, 5),\n",
    "    \"D\": (5, 5),\n",
    "}\n",
    "M, S = matrix_multiplication(R)\n",
    "M_groundtruth = [[0, 7000, 2250, 2375], [None, 0, 1750, 1875], [None, None, 0, 1750], [None, None, None, 0]]\n",
    "S_groundtruth = [['A', '(AB)', '(A(BC))', '(A((BC)D))'], [None, 'B', '(BC)', '((BC)D)'], [None, None, 'C', '(CD)'], [None, None, None, 'D']]\n",
    "assert_equal(str(M), str(M_groundtruth))\n",
    "assert_equal(str(S), str(S_groundtruth))\n",
    "\n",
    "### BEGIN HIDDEN TESTS\n",
    "#basecase\n",
    "R = {\n",
    "    \"A\": (20, 5),\n",
    "    \"B\": (5, 70)\n",
    "}\n",
    "M, S = matrix_multiplication(R)\n",
    "M_groundtruth = [[0, 7000], [None, 0]]\n",
    "S_groundtruth = [['A', '(AB)'], [None, 'B']]\n",
    "assert_equal(str(M), str(M_groundtruth))\n",
    "assert_equal(str(S), str(S_groundtruth))\n",
    "\n",
    "### END HIDDEN TESTS"
   ]
  },
  {
   "cell_type": "markdown",
   "metadata": {},
   "source": [
    "# Einfache Sortierverfahren\n",
    "\n",
    "Der folgende Code implementiert das Bubble-Sort Verfahren in der Methode _`bubble_sort()`_. Beachten Sie, dass als Datenstruktur die vorimplementierten Listen von Python verwendet werden. Zusätzlich werden die Zahlen nicht aufsteigend, sondern absteigend sortiert.\n",
    "\n",
    "Ihre Aufgabe ist es zwei weitere Sortierverfahren, Insertion-Sort und Selection-Sort, zu implementieren. Dies soll in den jeweiligen Methode  _`insertion_sort()`_ und _`selection_sort()`_ passieren. Anschließend sollen die Algorithmen bezüglich ihrer Laufzeit, sowie der Anzahl an Vergleichs- und Kopieroperationen verglichen werden.\n",
    "\n",
    "Beachten Sie, dass die Methoden die übergebenen Listen direkt modifizieren sollen, weshalb die sortierte Liste nicht zurückgegeben werden muss.\n",
    "\n",
    "Die zwei Variablen `cmp_ops` und `cpy_ops` werden benutzt um die Anzahl von Vergleichs- und Kopieroperationen innerhalb eines Aufrufs zu zählen. Vergleiche von Indizes werden in der folgenden Analyse vernachlässigt. Die Werte für die Operationen werden nach dem Sortieren zurückgegeben und können für die Auswertung im letzten Aufgabenteil genutzt werden."
   ]
  },
  {
   "cell_type": "code",
   "execution_count": 4,
   "metadata": {},
   "outputs": [],
   "source": [
    "def bubble_sort(a):\n",
    "    cmp_ops = 0  # number of compare operations\n",
    "    cpy_ops = 0  # number of copy operations\n",
    "\n",
    "    i = 0\n",
    "    n = len(a)\n",
    "    while i < n - 1:\n",
    "        j = n - 1\n",
    "        while j > i:\n",
    "            cmp_ops += 1\n",
    "            if a[j] > a[j - 1]:\n",
    "                cpy_ops += 2\n",
    "                a[j], a[j - 1] = a[j - 1], a[j]\n",
    "            j -= 1\n",
    "        i += 1\n",
    "\n",
    "    return cmp_ops, cpy_ops"
   ]
  },
  {
   "cell_type": "code",
   "execution_count": 5,
   "metadata": {},
   "outputs": [
    {
     "name": "stdout",
     "output_type": "stream",
     "text": [
      "Unsortierte Liste:\n",
      "[10, 1, 1, 5, 8, 0, 6, 0, 3, 4]\n",
      "Sortierte Liste:\n",
      "[10, 8, 6, 5, 4, 3, 1, 1, 0, 0]\n",
      "Vergleichs- & Kopieroperationen:\n",
      "45, 36\n"
     ]
    }
   ],
   "source": [
    "a = [randint(0, 10) for _ in range(10)]\n",
    "print(f\"Unsortierte Liste:\\n{a}\")\n",
    "\n",
    "cmp, cpy = bubble_sort(a)\n",
    "print(f\"Sortierte Liste:\\n{a}\")\n",
    "print(f\"Vergleichs- & Kopieroperationen:\\n{cmp}, {cpy}\")"
   ]
  },
  {
   "cell_type": "markdown",
   "metadata": {},
   "source": [
    "Implementieren Sie die Functionen _`insertion_sort()`_ und _`insertion_sort()`_ in den unten stehenden Zellen.\n",
    "\n",
    "## a) _selection_sort()_ - 4P.\n",
    "\n",
    "Die Function _selection_sort()_ soll den Selection-Sort Algorithmus aus der Vorlesung implementieren. Die Funktion erwartet eine beliebige Liste als Eingabe, welche dann sortiert werden soll. Die Liste soll absteigend sortiert werden. Zusätzlich sollen die Anzahl der Vergleichs- und Kopieroperationen gezählt werden und am Ende der Funktion zurückgeben. \n",
    "\n",
    "Orientieren Sie sich bei Ihrer Implementierung an dem Pseudocode, der in der Vorlesung vorgestellt worden ist, sowie an der Funktion _bubble_sort()_. Bitte beachten Sie, dass es insbesondere nicht erlaubt ist die Liste zuerst aufsteigend zu sortieren und in einem zweiten Schritt die Reihenfolge der Zahlen zu ändern. Ihr Algorithmus soll direkt beim Durchlauf die Zahlen absteigend sortieren. Sie dürfen die vordefinierten Listen von Python benutzen, zusätzlich dürfen Sie die Funktion len() verwenden. Alle anderen Funktionen dürfen Sie nicht benutzen, so auch nicht die Funktion sort() oder reverse(). "
   ]
  },
  {
   "cell_type": "code",
   "execution_count": 6,
   "metadata": {},
   "outputs": [],
   "source": [
    "def selection_sort(a):\n",
    "    cmp_ops = 0  # number of compare operations\n",
    "    cpy_ops = 0  # number of copy operations\n",
    "\n",
    "    ### BEGIN SOLUTION HERE\n",
    "    i = 0\n",
    "    n = len(a)\n",
    "    while i < n - 1:\n",
    "        max = i\n",
    "        j = i + 1\n",
    "        while j < n:\n",
    "            cmp_ops += 1\n",
    "            if a[j] > a[max]:\n",
    "                max = j\n",
    "            j += 1\n",
    "        cpy_ops += 2\n",
    "        a[i], a[max] = a[max], a[i]\n",
    "        i += 1\n",
    "\n",
    "    ### END SOLUTION HERE\n",
    "    return cmp_ops, cpy_ops"
   ]
  },
  {
   "cell_type": "markdown",
   "metadata": {},
   "source": [
    "## a) - Test Cases"
   ]
  },
  {
   "cell_type": "code",
   "execution_count": 7,
   "metadata": {},
   "outputs": [
    {
     "name": "stdout",
     "output_type": "stream",
     "text": [
      "Unsortierte Liste:\n",
      "[7, 4, 8, 6, 6, 10, 4, 0, 3, 1]\n",
      "Sortierte Liste:\n",
      "[10, 8, 7, 6, 6, 4, 4, 3, 1, 0]\n",
      "Vergleichs- & Kopieroperationen:\n",
      "45, 18\n"
     ]
    }
   ],
   "source": [
    "# public unittests\n",
    "# test if list is sorted after function call\n",
    "l_unsorted = [0, 1, 2, 3, 4, 5, 6, 7, 8, 9]\n",
    "l_sorted = [9, 8, 7, 6, 5, 4, 3, 2, 1, 0]\n",
    "selection_sort(l_unsorted)\n",
    "assert_equal(str(l_unsorted), str(l_sorted))\n",
    "\n",
    "l_unsorted = ['asd', 'qwe', 'fgh', 'iop']\n",
    "l_sorted = ['qwe', 'iop', 'fgh', 'asd']\n",
    "selection_sort(l_unsorted)\n",
    "assert_equal(str(l_unsorted), str(l_sorted))\n",
    "\n",
    "\n",
    "#check yourself if the list is ordered in a descending order\n",
    "a = [randint(0, 10) for _ in range(10)]\n",
    "print(f\"Unsortierte Liste:\\n{a}\")\n",
    "\n",
    "cmp, cpy = selection_sort(a)\n",
    "print(f\"Sortierte Liste:\\n{a}\")\n",
    "print(f\"Vergleichs- & Kopieroperationen:\\n{cmp}, {cpy}\")\n",
    "\n",
    "### BEGIN HIDDEN TESTS\n",
    "#edgecases: empty list\n",
    "l_unsorted = []\n",
    "l_sorted = []\n",
    "selection_sort(l_unsorted)\n",
    "assert_equal(str(l_unsorted), str(l_sorted))\n",
    "\n",
    "#list with one element\n",
    "l_unsorted = ['42']\n",
    "l_sorted = ['42']\n",
    "selection_sort(l_unsorted)\n",
    "assert_equal(str(l_unsorted), str(l_sorted))\n",
    "\n",
    "#general test with duplicates\n",
    "l_unsorted = [0, 1, 4, 2, 7, 8, 2, 3, 4, 5, 6, 7, 8, 9]\n",
    "l_sorted = [9, 8, 8, 7, 7, 6, 5, 4, 4, 3, 2, 2, 1, 0]\n",
    "selection_sort(l_unsorted)\n",
    "assert_equal(str(l_unsorted), str(l_sorted))\n",
    "### END HIDDEN TESTS"
   ]
  },
  {
   "cell_type": "markdown",
   "metadata": {},
   "source": [
    "## b) _insertion_sort()_ - 4P.\n",
    "\n",
    "Die Function _insertion_sort()_ soll den Insertion-Sort Algorithmus aus der Vorlesung implementieren, allerdings soll die Liste absteigend sortiert werden. Sie bekommen eine sortierte oder unsortierte Liste als Eingabe und sollen diese sortieren. Zusätzlich sollen Sie die Anzahl der Vergleichs- und Kopieroperationen in ihrem Algorithmus zählen und am Ende der Funktion zurückgeben. \n",
    "\n",
    "Bitte orientieren Sie sich in Ihrer Implementierung an dem Pseudocode, der in der Vorlesung vorgestellt worden ist, sowie an der Funktion _bubble_sort()_. Bitte beachten Sie zusätzlich, dass es insbesondere nicht erlaubt ist die Liste zuerst aufsteigend zu sortieren und in einem zweiten Schritt die Reihenfolge der Zahlen zu ändern. Ihr Algorithmus soll direkt beim Durchlauf die Zahlen absteigend einsortieren. Sie dürfen die vordefinierten Listen von Python benutzen, zusätzlich dürfen Sie die Funktion len() verwenden. Alle anderen Funktionen dürfen Sie nicht benutzen, so auch nicht die Funktion sort() oder reverse()."
   ]
  },
  {
   "cell_type": "code",
   "execution_count": 8,
   "metadata": {},
   "outputs": [],
   "source": [
    "def insertion_sort(a):\n",
    "    cmp_ops = 0  # number of compare operations\n",
    "    cpy_ops = 0  # number of copy operations\n",
    "\n",
    "    ### BEGIN SOLUTION\n",
    "    i = 1\n",
    "    n = len(a)\n",
    "    while i < n:\n",
    "        cpy_ops += 1\n",
    "        h = a[i]\n",
    "        j = i\n",
    "        cmp_ops += 1\n",
    "        while j > 0 and a[j - 1] < h:\n",
    "            cmp_ops += 1\n",
    "            cpy_ops += 1\n",
    "            a[j] = a[j - 1]\n",
    "            j -= 1\n",
    "        cpy_ops += 1\n",
    "        a[j] = h\n",
    "        i += 1\n",
    "\n",
    "    ### END SOLUTION\n",
    "    return cmp_ops, cpy_ops"
   ]
  },
  {
   "cell_type": "markdown",
   "metadata": {},
   "source": [
    "## b) - Test Cases"
   ]
  },
  {
   "cell_type": "code",
   "execution_count": 9,
   "metadata": {},
   "outputs": [
    {
     "name": "stdout",
     "output_type": "stream",
     "text": [
      "Unsortierte Liste:\n",
      "[7, 3, 10, 9, 5, 9, 7, 7, 9, 6]\n",
      "Sortierte Liste:\n",
      "[10, 9, 9, 9, 7, 7, 7, 6, 5, 3]\n",
      "Vergleichs- & Kopieroperationen:\n",
      "28, 37\n"
     ]
    }
   ],
   "source": [
    "# public unittests\n",
    "# test if list is sorted after function call\n",
    "l_unsorted = [0, 1, 2, 3, 4, 5, 6, 7, 8, 9]\n",
    "l_sorted = [9, 8, 7, 6, 5, 4, 3, 2, 1, 0]\n",
    "insertion_sort(l_unsorted)\n",
    "assert_equal(str(l_unsorted), str(l_sorted))\n",
    "\n",
    "l_unsorted = ['asd', 'qwe', 'fgh', 'iop']\n",
    "l_sorted = ['qwe', 'iop', 'fgh', 'asd']\n",
    "insertion_sort(l_unsorted)\n",
    "assert_equal(str(l_unsorted), str(l_sorted))\n",
    "\n",
    "\n",
    "#check yourself if the list is ordered in a descending order\n",
    "a = [randint(0, 10) for _ in range(10)]\n",
    "print(f\"Unsortierte Liste:\\n{a}\")\n",
    "\n",
    "cmp, cpy = insertion_sort(a)\n",
    "print(f\"Sortierte Liste:\\n{a}\")\n",
    "print(f\"Vergleichs- & Kopieroperationen:\\n{cmp}, {cpy}\")\n",
    "\n",
    "### BEGIN HIDDEN TESTS\n",
    "#edgecases: empty list\n",
    "l_unsorted = []\n",
    "l_sorted = []\n",
    "insertion_sort(l_unsorted)\n",
    "assert_equal(str(l_unsorted), str(l_sorted))\n",
    "\n",
    "#list with one element\n",
    "l_unsorted = ['42']\n",
    "l_sorted = ['42']\n",
    "insertion_sort(l_unsorted)\n",
    "assert_equal(str(l_unsorted), str(l_sorted))\n",
    "\n",
    "#general test with duplicates\n",
    "l_unsorted = [0, 1, 4, 2, 7, 8, 2, 3, 4, 5, 6, 7, 8, 9]\n",
    "l_sorted = [9, 8, 8, 7, 7, 6, 5, 4, 4, 3, 2, 2, 1, 0]\n",
    "insertion_sort(l_unsorted)\n",
    "assert_equal(str(l_unsorted), str(l_sorted))\n",
    "### END HIDDEN TESTS"
   ]
  },
  {
   "cell_type": "markdown",
   "metadata": {},
   "source": [
    "## c) Vergleich von Operationen - 2P.\n",
    "\n",
    "Als nächstes sollen Sie die in diesem Notebook implementierten Verfahren gegeneinander testen. Der unten stehende Code führt die Sortierverfahren auf zwei generierten Listen und berechnet zusätzlich die Ausführungszeit. Diese Zeit ist abhängig von der verwendeten Hardware und kann auf unterschiedlichen Umgebungen variieren. Die Anzahl der Vergleichs- und Kopieroperationen bleibt allerdings gleich.\n",
    "\n",
    "Führen Sie den unten stehenden Code aus und beschreiben sie kurz (3-5 Sätze) die Ergebnisse, die Sie in den Tabellen sehen. Verhalten sich die Sortieralgorithmen so, wie in der Vorlesung beschrieben? Worin besteht Ihrer Meinung nach der unterschied zwischen `Array 1` und `Array 2`? Können Sie diese Ergebnisse bei mehrfacher Ausführung von dem Code reproduzieren oder ändern sich die Ergebnisse jedes Mal?"
   ]
  },
  {
   "cell_type": "code",
   "execution_count": 10,
   "metadata": {},
   "outputs": [
    {
     "data": {
      "image/png": "[encoded data removed]",
      "text/plain": [
       "<Figure size 1080x288 with 3 Axes>"
      ]
     },
     "metadata": {
      "needs_background": "light"
     },
     "output_type": "display_data"
    },
    {
     "data": {
      "image/png": "[encoded data removed]",
      "text/plain": [
       "<Figure size 1080x288 with 3 Axes>"
      ]
     },
     "metadata": {
      "needs_background": "light"
     },
     "output_type": "display_data"
    }
   ],
   "source": [
    "def testSort(a, sort_fct):\n",
    "    b = [x for x in a]\n",
    "    start = time()\n",
    "    cmp_ops, cpy_ops = sort_fct(b)\n",
    "    return time() - start, cmp_ops, cpy_ops\n",
    "\n",
    "def plotRuntimeAndOperations(array, title=None):\n",
    "    df = pd.DataFrame(columns=['Runtime', 'Compare Operations', 'Copy Operations'])\n",
    "    df.loc['Selection-Sort'] = testSort(array, selection_sort)\n",
    "    df.loc['Bubble-Sort'] = testSort(array, bubble_sort)\n",
    "    df.loc['Insertion-Sort'] = testSort(array, insertion_sort)\n",
    "    ax = df.plot.bar(title=title, rot=0, subplots=True, layout=(1,3), figsize=(15,4))\n",
    "\n",
    "array_1 = [randint(0, 100) for _ in range(100)]\n",
    "array_2 = list(range(100, 0, -1))\n",
    "\n",
    "plotRuntimeAndOperations(array_1, \"Array 1\")\n",
    "plotRuntimeAndOperations(array_2, \"Array 2\")"
   ]
  },
  {
   "cell_type": "markdown",
   "metadata": {},
   "source": [
    "### BEGIN SOLUTION\n",
    "\n",
    "- **Array 1 hat die Average-Case an Vergleichs- und Kopieroperationen und Array 2 den Best-Case** oder eine sinnvolle Kombination aus:  \n",
    "  - Selection- & Bubble-Sort brauchen für Array 1 und Array 2 die gleiche Anzahl von Vergleichsoperationen\n",
    "  - Selection-Sort braucht auf Array 1 und Array 2 die gleiche Anzahl an Kopieroperationen\n",
    "  - Bubble-Sort benötigt keine Kopieroperationen auf Array 2\n",
    "  - ...\n",
    "- **Array 1 besteht aus einer zufälligen Liste und Array 2 aus einer sortierten Liste**\n",
    "- Die Laufzeit von Array 1 ist größer, als die Laufzeit von Array 2, wobei die Laufzeit von Array 1 variiert und die von Array 2 konstant bleibt.\n",
    "\n",
    "### END SOLUTION"
   ]
  },
  {
   "cell_type": "markdown",
   "metadata": {},
   "source": [
    "## Jupyter Notebook Stolperfalle\n",
    "Bei der Benutzung von Jupyter Notebooks, wird der globale Zustand aller Variablen zwischen der Ausführung von verschiedenen Zellen erhalten. Dies ist auch der Fall, wenn man Zellen löscht oder hinzufügt.\n",
    "Um sicher zu gehen, dass Sie nicht ausversehen notwendige Variablen überschrieben oder gelöscht haben benutzen Sie bitte `Kernel -> Restart & Run All`.\n",
    "\n",
    "Zudem möchten wir Sie bitten zu überprüfen, ob alle öffentlichen Unittests bestanden werden. Dies stellt sicher, dass wir ihren Code mit unserem automatisierten System bewerten können."
   ]
  },
  {
   "cell_type": "code",
   "execution_count": null,
   "metadata": {},
   "outputs": [],
   "source": []
  }
 ],
 "metadata": {
  "interpreter": {
   "hash": "31f2aee4e71d21fbe5cf8b01ff0e069b9275f58929596ceb00d14d90e3e16cd6"
  },
  "kernelspec": {
   "display_name": "Python 3",
   "language": "python",
   "name": "python3"
  },
  "language_info": {
   "codemirror_mode": {
    "name": "ipython",
    "version": 3
   },
   "file_extension": ".py",
   "mimetype": "text/x-python",
   "name": "python",
   "nbconvert_exporter": "python",
   "pygments_lexer": "ipython3",
   "version": "3.7.6"
  }
 },
 "nbformat": 4,
 "nbformat_minor": 2
}

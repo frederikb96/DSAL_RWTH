{
 "cells":[
  {
   "cell_type":"markdown",
   "source":[
    "# Datenstrukturen und Algorithmen\n",
    "\n",
    "## Praktische Aufgabe 1\n",
    "\n",
    "In dieser praktischen Aufgabe werden Sie lineare Strukturen (einfach und doppelt verkettete Listen) implementieren. Diese Aufgabe dient dazu einige Konzepte der Vorlesung zu wiederholen.\n",
    "\n",
    "Die Abgaben werden mit der `nbgrader` Erweiterung korrigiert. Das System erwartet, dass der Code zum Lösen der Aufgaben nach der `#YOUR CODE HERE` Anweisung kommt. Außerdem darf die Zellenreihenfolge nicht geändert werden. Damit Sie selbst Ihre Lösungsvorschläge validieren können, werden Ihnen Unittests zur Verfügung gestellt. Beachten Sie, dass diese Tests keine Garantie sind für das Erreichen der vollen Punktzahl, da Sie nur einen Teil der Funktionalität prüfen.\n",
    "\n",
    "Wichtig: Füllen Sie auch die erste Zelle mit dem Titel Abgabeteam vollständig aus. Dies ermöglicht uns auch bei technischen Problemen die Abgaben eindeutig zuordnen zu können.\n",
    "\n",
    "**Übersicht der Aufgaben** (20 Punkte):\n",
    "\n",
    "1. **Einfach verkettete Listen** - insgesamt: 2 Punkte\n",
    "   1. insert() - 1P.\n",
    "   2. delete() - 1P.\n",
    "\n",
    "2. **Doppelt verkettete Listen** - insgesamt: 18 Punkte\n",
    "   1. insert() - 1P.\n",
    "   2. delete() - 1P.\n",
    "   3. length() - 2P.\n",
    "   4. join() - 2P.\n",
    "   5. split() - 3P.\n",
    "   6. cycle() - 3P.\n",
    "   7. swap() - 2P.\n",
    "   8. reverse() - 4P."
   ],
   "attachments":{
    
   },
   "metadata":{
    "datalore":{
     "type":"MD",
     "hide_input_from_viewers":false,
     "hide_output_from_viewers":false
    }
   }
  },
  {
   "cell_type":"markdown",
   "source":[
    "## Abgabeteam\n",
    "Tragen Sie in die unterstehende Zelle Ihre Daten ein:\n",
    "\n",
    "Nummer des Tutoriums\n",
    "\n",
    "Name 1 + Matrikelnummer 1\n",
    "\n",
    "Name 2 + Matrikelnummer 2"
   ],
   "attachments":{
    
   },
   "metadata":{
    "datalore":{
     "type":"MD",
     "hide_input_from_viewers":false,
     "hide_output_from_viewers":false
    }
   }
  },
  {
   "cell_type":"markdown",
   "source":[
    "YOUR ANSWER HERE\n",
    "\n",
    "Alex HAAG 432682\n",
    "\n",
    "Frederik BERG 402275\n",
    "\n",
    "Haisen LIAO"
   ],
   "attachments":{
    
   },
   "metadata":{
    "datalore":{
     "type":"MD",
     "hide_input_from_viewers":false,
     "hide_output_from_viewers":false
    }
   }
  },
  {
   "cell_type":"markdown",
   "source":[
    "## Module importieren\n",
    "\n",
    "Zuerst werden die benötigten Module importiert. Sie dürfen keine weiteren Module importieren.\n",
    "\n",
    "Wenn in Ihrer Entwickungsumbegung (z.B Google Colab oder Deepnote) bestimmte Module nicht verfügbar sind, dann kommentieren Sie die erste Zeile aus um die Module in der Laufzeitumgebung temporär zu installieren."
   ],
   "attachments":{
    
   },
   "metadata":{
    "datalore":{
     "type":"MD",
     "hide_input_from_viewers":false,
     "hide_output_from_viewers":false
    }
   }
  },
  {
   "cell_type":"code",
   "source":[
    "!pip install nose\n",
    "from nose.tools import assert_equal"
   ],
   "execution_count":573,
   "outputs":[
    {
     "name":"stdout",
     "text":[
      "Requirement already satisfied: nose in \/opt\/python\/envs\/default\/lib\/python3.8\/site-packages (1.3.7)\r\n",
      "\u001b[33mWARNING: You are using pip version 21.3.1; however, version 22.0.4 is available.\r\n",
      "You should consider upgrading via the '\/opt\/python\/envs\/default\/bin\/python -m pip install --upgrade pip' command.\u001b[0m\r\n"
     ],
     "output_type":"stream"
    }
   ],
   "metadata":{
    "datalore":{
     "type":"CODE",
     "hide_input_from_viewers":false,
     "hide_output_from_viewers":false
    }
   }
  },
  {
   "cell_type":"markdown",
   "source":[
    "# Einfach verkettete Listen\n",
    "\n",
    "Der folgende Code implementiert teilweise einfach verkettete Listen.\n",
    "Ihre Aufgabe ist es die fehlenden Funktionen _`insert()`_ und _`delete()`_ zu implementieren, so wie sie in der Vorlesung vorgestellt worden sind.\n",
    "\n",
    "Der zur Verfügung gestellte Code definiert zunächst die Klasse _SinglyLinkedList_ und _Node_, sowie die Funktionen _create()_, _get()_, _reset()_, _next()_, _isEmpty()_ und _isLast()_, die bereits aus der Vorlesung bekannt sind.\n",
    "\n",
    "Desweiteren verwenden wir die folgende Darstellung für einfach verkettete Listen und deren Elemente: Die Pointer auf das nächste Element sind durch `-->` dargestellt. Das 'Anchor' Objekt wird durch `A` representiert und der Marker auf das aktuelle Element der Liste wird mit `( )` dargestellt.\n",
    "\n",
    "```\n",
    "Node:               SinglyLinkedList - create():\n",
    "   | |-->              | |-->\n",
    "   |?|                 (A)\n",
    "```"
   ],
   "attachments":{
    
   },
   "metadata":{
    "datalore":{
     "type":"MD",
     "hide_input_from_viewers":false,
     "hide_output_from_viewers":false
    }
   }
  },
  {
   "cell_type":"code",
   "source":[
    "class Node:\n",
    "    \"\"\" A single object which holds an item and a pointer to its successor. \"\"\"\n",
    "    def __init__(self, item):\n",
    "        self.item = item\n",
    "        self.next = None\n",
    "\n",
    "    def __repr__(self):\n",
    "        return str(self.item)\n",
    "\n",
    "\n",
    "class SinglyLinkedList:\n",
    "    \"\"\" A list object which points to the current node element and the head of the list. \"\"\"\n",
    "    def __init__(self):\n",
    "        self.head = Node(\"Anchor\")\n",
    "        self.cur = self.head\n",
    "\n",
    "    def __repr__(self):\n",
    "        str_out = str(self.head) if self.head != self.cur else f\"({str(self.head)})\"\n",
    "        x = self.head.next\n",
    "        while x:\n",
    "            str_out += f\", {str(x)}\" if self.cur != x else f\", ({str(x)})\"\n",
    "            x = x.next\n",
    "        return str_out\n",
    "\n",
    "\n",
    "def create():\n",
    "    \"\"\" Creates an empty list. \"\"\"\n",
    "    return SinglyLinkedList()\n",
    "\n",
    "\n",
    "def get(list):\n",
    "    \"\"\" Returns the object, the pointer is assigned to.\"\"\"\n",
    "    return list.cur.item\n",
    "\n",
    "\n",
    "def reset(list):\n",
    "    \"\"\" Resets the pointer at the head of the list. \"\"\"\n",
    "    list.cur = list.head\n",
    "    return list\n",
    "\n",
    "\n",
    "def next(list):\n",
    "    \"\"\" Moves the pointer to the next list item. \"\"\"\n",
    "    list.cur = list.cur.next\n",
    "    return list\n",
    "\n",
    "\n",
    "def isEmpty(list):\n",
    "    \"\"\" Returns `True` if the list is empty. \"\"\"\n",
    "    return list.head.next is None\n",
    "\n",
    "\n",
    "def isLast(list):\n",
    "    \"\"\" Returns `True` if the pointer points to the last element in the list. \"\"\"\n",
    "    return list.cur.next is None"
   ],
   "execution_count":574,
   "outputs":[
    
   ],
   "metadata":{
    "datalore":{
     "type":"CODE",
     "hide_input_from_viewers":false,
     "hide_output_from_viewers":false
    }
   }
  },
  {
   "cell_type":"markdown",
   "source":[
    "Sie können die Funktion *print()* verwenden, um eine List auszugeben."
   ],
   "attachments":{
    
   },
   "metadata":{
    "datalore":{
     "type":"MD",
     "hide_input_from_viewers":false,
     "hide_output_from_viewers":false
    }
   }
  },
  {
   "cell_type":"code",
   "source":[
    "my_list_variable = create()\n",
    "print(my_list_variable)"
   ],
   "execution_count":575,
   "outputs":[
    {
     "name":"stdout",
     "text":[
      "(Anchor)\n"
     ],
     "output_type":"stream"
    }
   ],
   "metadata":{
    "datalore":{
     "type":"CODE",
     "hide_input_from_viewers":false,
     "hide_output_from_viewers":false
    }
   }
  },
  {
   "cell_type":"markdown",
   "source":[
    "Bitte implementieren Sie die Funktionen _`insert()`_ und _`delete()`_ in den unten stehenden Zellen an den markierten Stellen.\n",
    "\n",
    "## a) _insert()_ - 1P.\n",
    "\n",
    "Die Funktion _insert()_ soll ein neues _Node_ Element erzeugen. Das neue _Node_ Element soll hinter dem Marker, wie in der Vorlesung vorgestellt, eingefügt werden. \n",
    "Am Ende wird die aktualisierte Liste zurückgegeben. \n",
    "\n",
    "Bitte verwenden Sie die unten stehenden Unittests, um Ihren Code zu validieren. Die zur Verfügung gestellten Unittests überprüfen immer nur einen Teil der geforderten Funktionalität und garantieren nicht, dass Sie auch die volle Punktzahl erhalten.\n",
    "\n",
    "Die folgende Abbildung zeigt das Verhalten der Funktion _insert()_ an einem Beispiel:\n",
    "\n",
    "```\n",
    "Einfügen von Element '2'\n",
    "\n",
    "Eingabe:                                    Ausgabe:\n",
    "   | |-->| |-->| |-->| |-->                 | |-->| |-->| |-->| |-->| |-->\n",
    "   |A|   (1)   |3|   |4|                    |A|   (1)   |2|   |3|   |4|\n",
    "```"
   ],
   "attachments":{
    
   },
   "metadata":{
    "datalore":{
     "type":"MD",
     "hide_input_from_viewers":false,
     "hide_output_from_viewers":false
    }
   }
  },
  {
   "cell_type":"code",
   "source":[
    "def insert(item, list):\n",
    "    \"\"\" Inserts the provided item at the current pointer position of the list element. \"\"\"\n",
    "    node = Node(item)\n",
    "    node.next = list.cur.next\n",
    "    list.cur.next = node\n",
    "    return list"
   ],
   "execution_count":576,
   "outputs":[
    
   ],
   "metadata":{
    "datalore":{
     "type":"CODE",
     "hide_input_from_viewers":false,
     "hide_output_from_viewers":false
    }
   }
  },
  {
   "cell_type":"code",
   "source":[
    "list = create()\n",
    "assert_equal(str(list), \"(Anchor)\")\n",
    "\n",
    "list = insert(1, insert(2, insert(3, list)))\n",
    "assert_equal(str(list), \"(Anchor), 1, 2, 3\")"
   ],
   "execution_count":577,
   "outputs":[
    
   ],
   "metadata":{
    "datalore":{
     "type":"CODE",
     "hide_input_from_viewers":false,
     "hide_output_from_viewers":false
    }
   }
  },
  {
   "cell_type":"markdown",
   "source":[
    "## b) _delete()_ - 1P.\n",
    "\n",
    "Die Funktion _delete()_ löscht das Element nach dem Marker und gibt die modifizierte Liste zurück. Sie müssen das Element selbst nicht explizit löschen. Sobald es nicht mehr erreichbar ist, wird es automatisch von Python aus dem Speicher gelöscht, da Python über Garbage Collection verfügt. Bitte implementieren Sie die Funktion so, wie in der Vorlesung vorgestellt.\n",
    "\n",
    "Die folgende Abbildung zeigt das Verhalten der Funktion _delete()_ an einem Beispiel:\n",
    "```\n",
    "Löschen eines Elements\n",
    "\n",
    "Eingabe:                                         Ausgabe:\n",
    "   | |-->| |-->| |-->| |-->| |-->                | |-->| |-->| |-->| |-->\n",
    "   |A|   (1)   |2|   |3|   |4|                   |A|   (1)   |3|   |4|\n",
    "```"
   ],
   "attachments":{
    
   },
   "metadata":{
    "datalore":{
     "type":"MD",
     "hide_input_from_viewers":false,
     "hide_output_from_viewers":false
    }
   }
  },
  {
   "cell_type":"code",
   "source":[
    "def delete(list):\n",
    "    \"\"\" Deletes the item  \"\"\"\n",
    "    # YOUR CODE HERE\n",
    "    if list.cur.next:\n",
    "        list.cur.next = list.cur.next.next\n",
    "    return list"
   ],
   "execution_count":578,
   "outputs":[
    
   ],
   "metadata":{
    "datalore":{
     "type":"CODE",
     "hide_input_from_viewers":false,
     "hide_output_from_viewers":false
    }
   }
  },
  {
   "cell_type":"code",
   "source":[
    "list = insert(1, insert(2, insert(3, insert(4, create()))))\n",
    "\n",
    "list = delete(next(list))\n",
    "assert_equal(str(list), \"Anchor, (1), 3, 4\")"
   ],
   "execution_count":579,
   "outputs":[
    
   ],
   "metadata":{
    "datalore":{
     "type":"CODE",
     "hide_input_from_viewers":false,
     "hide_output_from_viewers":false
    }
   }
  },
  {
   "cell_type":"markdown",
   "source":[
    "\n",
    "# Doppelt verkettete Listen\n",
    "\n",
    "Der folgende Code implementiert eine doppelt verkettete Liste mit einem 'Anchor' und 'Sentinel' Element. \n",
    "Ihre Aufgabe ist es die fehlenden Funktionen _`insert()`_ und _`delete()`_ zu implementieren, so wie sie in der Vorlesung vorgestellt worden sind.\n",
    "Zusätzlich sollen Sie die folgenden Funktionen implementieren, die später noch näher erklärt werden: \n",
    " _`length()`_, _`join()`_, _`split()`_, _`cycle()`_, _`swap()`_ und _`reverse()`_.\n",
    "\n",
    "Der zur Verfügung gestellte Code definiert zunächst die Klassen _DoublyLinkedList_, _Node_ sowie die Funktionen _create()_, _get()_, _reset()_, _next()_, _previous()_, _isEmpty()_ und _isLast()_, die bereits aus der Vorlesung bekannt sind. \n",
    "\n",
    "Desweiteren verwenden wir die folgende Darstellung für doppelt verkettete Listen und deren Elemente: Die Pointer auf das nächste und vorherige Element werden jeweils durch `-->` und `<--` dargestellt. Das 'Anchor' und 'Sentinel' Objekt werden jeweils durch `A` und `S` representiert und der Marker auf das aktuelle Element der Liste wird mit `( )` dargestellt.\n",
    "\n",
    "```\n",
    "Node:               DoublyLinkedList - create():\n",
    "   | |-->              | |-->| |-->\n",
    "   |?|                 (A)   |S|\n",
    "<--| |              <--| |<--| |\n",
    "```"
   ],
   "attachments":{
    
   },
   "metadata":{
    "datalore":{
     "type":"MD",
     "hide_input_from_viewers":false,
     "hide_output_from_viewers":false
    }
   }
  },
  {
   "cell_type":"code",
   "source":[
    "class Node:\n",
    "    def __init__(self, item):\n",
    "        self.item = item\n",
    "        self.prev = None\n",
    "        self.next = None\n",
    "\n",
    "    def __repr__(self):\n",
    "        return str(self.item)\n",
    "\n",
    "\n",
    "class DoublyLinkedList:\n",
    "    def __init__(self):\n",
    "        self.head = Node(\"Anchor\")\n",
    "        self.tail = Node(\"Sentinel\")\n",
    "        self.head.next = self.tail\n",
    "        self.tail.prev = self.head\n",
    "        self.cur = self.head\n",
    "\n",
    "    def __repr__(self):\n",
    "        str_out = str(self.head) if self.head != self.cur else f\"({str(self.head)})\"\n",
    "        x = self.head.next\n",
    "        while x:\n",
    "            str_out += f\", {str(x)}\" if self.cur != x else f\", ({str(x)})\"\n",
    "            x = x.next\n",
    "        return str_out\n",
    "\n",
    "def create():\n",
    "    return DoublyLinkedList()\n",
    "\n",
    "\n",
    "def get(list):\n",
    "    return list.cur.item\n",
    "\n",
    "\n",
    "def reset(list):\n",
    "    list.cur = list.head\n",
    "    return list\n",
    "\n",
    "\n",
    "def next(list):\n",
    "    list.cur = list.cur.next\n",
    "    return list\n",
    "\n",
    "\n",
    "def prev(list):\n",
    "    list.cur = list.cur.prev\n",
    "    return list\n",
    "\n",
    "\n",
    "def isEmpty(list):\n",
    "    return list.head.next.item == \"Sentinel\"\n",
    "\n",
    "\n",
    "def isLast(list):\n",
    "    return list.cur.next.item == \"Sentinel\""
   ],
   "execution_count":580,
   "outputs":[
    
   ],
   "metadata":{
    "datalore":{
     "type":"CODE",
     "hide_input_from_viewers":false,
     "hide_output_from_viewers":false
    }
   }
  },
  {
   "cell_type":"markdown",
   "source":[
    "## a) _insert()_ - 1P.\n",
    "\n",
    "Die Funktion _insert()_ soll ein neues _Node_ Element erzeugen. Das neue _Node_ Element soll hinter dem Marker, wie in der Vorlesung vorgestellt, eingefügt werden. \n",
    "Am Ende wird die aktualisierte Liste zurückgegeben. \n",
    "\n",
    "Beachten Sie, dass wenn der Marker auf das \"Sentinel\"-Element zeigt, die Funktion _insert()_ nichts tun soll. Typischerweise würde man in so einer Situation einen Fehler ausgeben. Der Einfachheit halber verzichten wir an dieser Stelle darauf.\n",
    "\n",
    "Die folgende Abbildung zeigt das Verhalten der Funktion _insert()_ an einem Beispiel:\n",
    "```\n",
    "Einfügen von Element '2'\n",
    "\n",
    "Eingabe:                                            Ausgabe:\n",
    "   | |-->| |-->| |-->| |-->| |-->                      | |-->| |-->| |-->| |-->| |-->| |-->                \n",
    "   |A|   (1)   |3|   |4|   |S|                         |A|   (1)   |2|   |3|   |4|   |S|                   \n",
    "<--| |<--| |<--| |<--| |<--| |                      <--| |<--| |<--| |<--| |<--| |<--| |                \n",
    "```"
   ],
   "attachments":{
    
   },
   "metadata":{
    "datalore":{
     "type":"MD",
     "hide_input_from_viewers":false,
     "hide_output_from_viewers":false
    }
   }
  },
  {
   "cell_type":"code",
   "source":[
    "def insert(item, list):\n",
    "    # YOUR CODE HERE\n",
    "    if list.cur.item == \"Sentinel\":\n",
    "        return list\n",
    "    node = Node(item)\n",
    "    node.prev = list.cur\n",
    "    node.next = list.cur.next\n",
    "    list.cur.next.prev = node\n",
    "    list.cur.next = node\n",
    "    return list"
   ],
   "execution_count":581,
   "outputs":[
    
   ],
   "metadata":{
    "datalore":{
     "type":"CODE",
     "hide_input_from_viewers":false,
     "hide_output_from_viewers":false
    }
   }
  },
  {
   "cell_type":"code",
   "source":[
    "list = insert(4, insert(3, insert(2, insert(1, create()))))\n",
    "assert_equal(str(list), \"(Anchor), 4, 3, 2, 1, Sentinel\")"
   ],
   "execution_count":582,
   "outputs":[
    
   ],
   "metadata":{
    "datalore":{
     "type":"CODE",
     "hide_input_from_viewers":false,
     "hide_output_from_viewers":false
    }
   }
  },
  {
   "cell_type":"markdown",
   "source":[
    "## b) _delete()_ - 1P.\n",
    "\n",
    "Die Funktion _delete()_ löscht das aktuelle Element auf das der Marker zeigt und gibt die modifizierte Liste zurück. Sie müssen das Element selbst nicht explizit löschen. Sobald es nicht mehr erreichbar ist, wird es automatisch von Python aus dem Speicher gelöscht, da Python über Garbage Collection verfügt. Bitte implementieren Sie die Funktion so, wie in der Vorlesung vorgestellt.\n",
    "\n",
    "Bitte beachten Sie, dass sowohl das Anchor als auch das Sentinel Element nicht gelöscht werden dürfen. Falls dies nach der obigen Spezifikation passieren würde, dann tut die Funktion _delete()_ nichts. Typischerweise würde man in so einer Situation einen Fehler ausgeben. Der Einfachheit halber verzichten wir an dieser Stelle darauf.\n",
    "\n",
    "Die folgende Abbildung zeigt das Verhalten der Funktion _delete()_ an einem Beispiel:\n",
    "```\n",
    "Löschen eines Elements\n",
    "\n",
    "Eingabe:                                            Ausgabe:\n",
    "   | |-->| |-->| |-->| |-->| |-->| |-->                | |-->| |-->| |-->| |-->| |-->\n",
    "   |A|   |1|   (2)   |3|   |4|   |S|                   |A|   (1)   |3|   |4|   |S| \n",
    "<--| |<--| |<--| |<--| |<--| |<--| |                <--| |<--| |<--| |<--| |<--| |\n",
    "```"
   ],
   "attachments":{
    
   },
   "metadata":{
    "datalore":{
     "type":"MD",
     "hide_input_from_viewers":false,
     "hide_output_from_viewers":false
    }
   }
  },
  {
   "cell_type":"code",
   "source":[
    "def delete(list):\n",
    "    # YOUR CODE HERE\n",
    "    if list.cur.item == \"Sentinel\" or list.cur.item == \"Anchor\":\n",
    "        return list\n",
    "    list.cur.prev.next = list.cur.next\n",
    "    list.cur.next.prev = list.cur.prev\n",
    "    list.cur = list.cur.prev\n",
    "    return list"
   ],
   "execution_count":583,
   "outputs":[
    
   ],
   "metadata":{
    "datalore":{
     "type":"CODE",
     "hide_input_from_viewers":false,
     "hide_output_from_viewers":false
    }
   }
  },
  {
   "cell_type":"code",
   "source":[
    "list = insert(4, insert(3, insert(2, insert(1, create()))))\n",
    "list = delete(next(list))\n",
    "print(list)\n",
    "assert_equal(str(list), \"(Anchor), 3, 2, 1, Sentinel\")\n",
    "\n",
    "list = create()\n",
    "list = delete(list)\n",
    "assert_equal(str(list), \"(Anchor), Sentinel\")"
   ],
   "execution_count":584,
   "outputs":[
    {
     "name":"stdout",
     "text":[
      "(Anchor), 3, 2, 1, Sentinel\n"
     ],
     "output_type":"stream"
    }
   ],
   "metadata":{
    "datalore":{
     "type":"CODE",
     "hide_input_from_viewers":false,
     "hide_output_from_viewers":false
    }
   }
  },
  {
   "cell_type":"markdown",
   "source":[
    "## c) _length()_ - 2P.\n",
    "\n",
    "Die Funktion _length()_ soll die aktuelle Länge einer Liste zurückgeben. Es ist zu beachten, dass das 'Anchor' und 'Sentinel' Objekt selbst nicht zu der Anzahl der Elemente einer List zählen sollen.\n",
    "Eine leere Liste soll also die Länge 0 haben. Wenn einer Liste 4 Elemente zugewiesen worden sind, dann soll die Länge dieser Liste als 4 angegeben werden. \n",
    "\n",
    "Weiter ist zu beachten, dass die Funktion weder den Marker der List verändern darf noch die Liste auf eine andere Art modifizieren darf.\n",
    "\n",
    "Die folgende Abbildung zeigt das Verhalten der Funktion _length()_ anhand von Beispielen:\n",
    "\n",
    "```\n",
    "Liste 1:                        Liste 2:\n",
    "   | |-->| |-->                    | |-->| |-->| |-->| |-->| |-->| |-->\n",
    "   (A)   |S|                       |A|   |1|   (2)   |3|   |4|   |S|\n",
    "<--| |<--| |                    <--| |<--| |<--| |<--| |<--| |<--| |\n",
    "\n",
    "Length: 0                       Length: 4\n",
    "```"
   ],
   "attachments":{
    
   },
   "metadata":{
    "datalore":{
     "type":"MD",
     "hide_input_from_viewers":false,
     "hide_output_from_viewers":false
    }
   }
  },
  {
   "cell_type":"code",
   "source":[
    "def length(list):\n",
    "    # YOUR CODE HERE\n",
    "    length = 0\n",
    "    start = list.head.next\n",
    "    while start.item != \"Sentinel\":\n",
    "        length += 1\n",
    "        start = start.next\n",
    "    \n",
    "    return length"
   ],
   "execution_count":585,
   "outputs":[
    
   ],
   "metadata":{
    "datalore":{
     "type":"CODE",
     "hide_input_from_viewers":false,
     "hide_output_from_viewers":false
    }
   }
  },
  {
   "cell_type":"code",
   "source":[
    "list = create()\n",
    "assert_equal(length(list), 0)\n",
    "\n",
    "list = insert(4, insert(3, insert(2, insert(1, create()))))\n",
    "assert_equal(length(list), 4)"
   ],
   "execution_count":586,
   "outputs":[
    
   ],
   "metadata":{
    "datalore":{
     "type":"CODE",
     "hide_input_from_viewers":false,
     "hide_output_from_viewers":false
    }
   }
  },
  {
   "cell_type":"markdown",
   "source":[
    "## d) _join()_ - 2P.\n",
    "\n",
    "Die Funktion _join()_ bekommt zwei Listen übergeben und gibt die Verschmelzung beider Listen zurück. Hierbei soll die zweite Liste an das Ende der ersten Liste angehängt werden und die erste Liste zurückgegeben werden.\n",
    "Bitte beachten Sie, dass sie zusätzlich sicher stellen müssen, dass die 'Anchor' und 'Sentinel' Objekte in der List korrekt sind. Außerdem müssen die entsprechenden Marker\/Pointer auf diese Objekte konsistent sein.\n",
    "\n",
    "Die folgende Abbildung zeigt das Verhalten der Funktion _join()_ an einem Beispiel:\n",
    "\n",
    "```\n",
    "Liste 1:                                Liste 2:\n",
    "   | |-->| |-->| |-->| |-->| |-->          | |-->| |-->| |-->| |-->| |-->\n",
    "   |A|   (1)   |2|   |3|   |S|             |A|   |4|   (5)   |6|   |S|\n",
    "<--| |<--| |<--| |<--| |<--| |          <--| |<--| |<--| |<--| |<--| |\n",
    "\n",
    "Ausgabe:\n",
    "   | |-->| |-->| |-->| |-->| |-->| |-->| |-->| |-->\n",
    "   |A|   (1)   |2|   |3|   |4|   |5|   |6|   |S|\n",
    "<--| |<--| |<--| |<--| |<--| |<--| |<--| |<--| |\n",
    "```"
   ],
   "attachments":{
    
   },
   "metadata":{
    "datalore":{
     "type":"MD",
     "hide_input_from_viewers":false,
     "hide_output_from_viewers":false
    }
   }
  },
  {
   "cell_type":"code",
   "source":[
    "def join(list, list2):\n",
    "    \"\"\" Joins two lists into a single one. \"\"\"\n",
    "    # YOUR CODE HERE\n",
    "    list.tail.prev.next = list2.head.next\n",
    "    list2.head.next.prev = list.tail.prev\n",
    "    list.tail = list2.tail\n",
    "    return list "
   ],
   "execution_count":587,
   "outputs":[
    
   ],
   "metadata":{
    "datalore":{
     "type":"CODE",
     "hide_input_from_viewers":false,
     "hide_output_from_viewers":false
    }
   }
  },
  {
   "cell_type":"code",
   "source":[
    "list1 = insert(1, insert(2, insert(3, insert(4, create()))))\n",
    "list2 = insert(5, insert(6, insert(7, insert(8, create()))))\n",
    "\n",
    "list = join(list1, list2)\n",
    "assert_equal(str(list), \"(Anchor), 1, 2, 3, 4, 5, 6, 7, 8, Sentinel\")"
   ],
   "execution_count":588,
   "outputs":[
    
   ],
   "metadata":{
    "datalore":{
     "type":"CODE",
     "hide_input_from_viewers":false,
     "hide_output_from_viewers":false
    }
   }
  },
  {
   "cell_type":"markdown",
   "source":[
    "## e) _split()_ - 3P.\n",
    "\n",
    "Die Funktion _split()_  soll eine Liste als Eingabe erhalten und zwei Listen zurückgeben. Hierbei soll die übergegebene Liste an der Stelle des Markers in zwei Listen aufgeteilt werden. Bitte implementieren Sie die folgende Funktion, indem Sie eine neue Liste erstellen und die Pointer entsprechend umbiegen. Alle Pointer, inklusive der Pointer auf den Anfang und das Ende beider Listen, müssen nach der Ausgabe konsistent sein.\n",
    "\n",
    "Bitte beachten Sie alle Sonderfälle, wie das Teilen am Anfang oder am Ende der Liste, oder das Teilen einer leeren Liste.\n",
    "\n",
    "Die folgende Abbildung zeigt das Verhalten der Funktion _split()_ an einem Beispiel:\n",
    "```\n",
    "Eingabe:\n",
    "   | |-->| |-->| |-->| |-->| |-->| |-->\n",
    "   |A|   |1|   (2)   |3|   |4|   |S|\n",
    "<--| |<--| |<--| |<--| |<--| |<--| |\n",
    "\n",
    "Ausgabe 1:                        Ausgabe 2:\n",
    "   | |-->| |-->| |-->| |-->          | |-->| |-->| |-->| |-->\n",
    "   |A|   |1|   (2)   |S|             (A)   |3|   |4|   |S|\n",
    "<--| |<--| |<--| |<--| |          <--| |<--| |<--| |<--| |\n",
    "```"
   ],
   "attachments":{
    
   },
   "metadata":{
    "datalore":{
     "type":"MD",
     "hide_input_from_viewers":false,
     "hide_output_from_viewers":false
    }
   }
  },
  {
   "cell_type":"code",
   "source":[
    "def split(list):\n",
    "    \"\"\" Splits the list into two list at the position of the current pointer. \"\"\"\n",
    "    # YOUR CODE HERE\n",
    "    list2 = create()\n",
    "    if list.cur.item == \"Sentinel\":\n",
    "        return list, list2\n",
    "    if list.cur.item == \"Anchor\":\n",
    "        return list2, list\n",
    "\n",
    "    list2.tail.prev = list.tail.prev\n",
    "    list.tail.prev = list2.tail\n",
    "    list.cur.prev = list2.head\n",
    "    list2.head.next = list.cur.next\n",
    "    list.tail.prev = list.cur\n",
    "    list.cur.next = list.tail\n",
    "\n",
    "    return list, list2"
   ],
   "execution_count":589,
   "outputs":[
    
   ],
   "metadata":{
    "datalore":{
     "type":"CODE",
     "hide_input_from_viewers":false,
     "hide_output_from_viewers":false
    }
   }
  },
  {
   "cell_type":"code",
   "source":[
    "list = insert(1, insert(2, insert(3, insert(4, create()))))\n",
    "list1, list2 = split(list)\n",
    "assert_equal(str(list1), \"(Anchor), Sentinel\")\n",
    "assert_equal(str(list2), \"(Anchor), 1, 2, 3, 4, Sentinel\")\n",
    "\n",
    "list = insert(1, insert(2, insert(3, insert(4, create()))))\n",
    "list = next(next(list))\n",
    "list1, list2 = split(list)\n",
    "assert_equal(str(list1), \"Anchor, 1, (2), Sentinel\")\n",
    "assert_equal(str(list2), \"(Anchor), 3, 4, Sentinel\")\n",
    "\n",
    "list = create()\n",
    "list1, list2 = split(list)\n",
    "assert_equal(str(list1), \"(Anchor), Sentinel\")\n",
    "assert_equal(str(list2), \"(Anchor), Sentinel\")\n",
    "\n",
    "list = next(create())\n",
    "list1, list2 = split(list)\n",
    "assert_equal(str(list1), \"Anchor, (Sentinel)\")\n",
    "assert_equal(str(list2), \"(Anchor), Sentinel\")\n"
   ],
   "execution_count":590,
   "outputs":[
    
   ],
   "metadata":{
    "datalore":{
     "type":"CODE",
     "hide_input_from_viewers":false,
     "hide_output_from_viewers":false
    }
   }
  },
  {
   "cell_type":"markdown",
   "source":[
    "## f) _cycle()_ - 3P.\n",
    "\n",
    "Die Funktion _cycle()_ soll die Elemente der Liste um eine Stelle nach vorne rotieren. Dies ist eine globale Operation, die den Marker auf das momentane Objekt nicht verändern sollte. Zudem sollten sich am Ende der Operation sowohl das 'Anchor', als auch 'Sentinel' Element an den Enden der Liste befinden. Bitte implementieren Sie diese Funktion gemäß der Beschreibung und der unten stehenden Abbildungen.\n",
    "\n",
    "Die folgende Abbildung zeigt das Verhalten der Funktion _cycle()_ an einem Beispiel:\n",
    "\n",
    "```\n",
    "Eingabe:                                                    Eingabe:\n",
    "   | |-->| |-->| |-->| |-->| |-->| |-->| |-->| |-->            | |-->| |-->\n",
    "   |A|   (1)   |2|   |3|   |4|   |5|   |6|   |S|               (A)   |S|\n",
    "<--| |<--| |<--| |<--| |<--| |<--| |<--| |<--| |            <--| |<--| | \n",
    "\n",
    "Ausgabe:                                                    Ausgabe:\n",
    "   | |-->| |-->| |-->| |-->| |-->| |-->| |-->| |-->            | |-->| |-->\n",
    "   |A|   |6|   (1)   |2|   |3|   |4|   |5|   |S|               (A)   |S|\n",
    "<--| |<--| |<--| |<--| |<--| |<--| |<--| |<--| |            <--| |<--| |           \n",
    "```"
   ],
   "attachments":{
    
   },
   "metadata":{
    "datalore":{
     "type":"MD",
     "hide_input_from_viewers":false,
     "hide_output_from_viewers":false
    }
   }
  },
  {
   "cell_type":"code",
   "source":[
    "def cycle(list):\n",
    "    \"\"\" Cycles the list by one element forward, such that the last element in the list becomes the first one. \"\"\"\n",
    "    # YOUR CODE HERE\n",
    "    if isEmpty(list):\n",
    "        return list\n",
    "    last = list.tail.prev\n",
    "    first = list.head.next\n",
    "\n",
    "    last.prev.next = list.tail\n",
    "    last.next = first\n",
    "    list.tail.prev = last.prev\n",
    "    last.prev = list.head\n",
    "    list.head.next = last\n",
    "    first.prev = last\n",
    "    return list"
   ],
   "execution_count":591,
   "outputs":[
    
   ],
   "metadata":{
    "datalore":{
     "type":"CODE",
     "hide_input_from_viewers":false,
     "hide_output_from_viewers":false
    }
   }
  },
  {
   "cell_type":"code",
   "source":[
    "list = insert(1, insert(2, insert(3, insert(4, create()))))\n",
    "list = cycle(list)\n",
    "assert_equal(str(list), \"(Anchor), 4, 1, 2, 3, Sentinel\")"
   ],
   "execution_count":592,
   "outputs":[
    
   ],
   "metadata":{
    "datalore":{
     "type":"CODE",
     "hide_input_from_viewers":false,
     "hide_output_from_viewers":false
    }
   }
  },
  {
   "cell_type":"markdown",
   "source":[
    "## g) _swap()_ - 2P.\n",
    "\n",
    "Die Funktion _swap()_ nimmt als Eingabe eine Liste und vertauscht das Element, auf das der Marker zeigt mit dem nächsten Element und gibt die neue Liste zurück.\n",
    "Bitte implementieren Sie die Funktion _swap()_ gemäß der Beschreibung und der unten stehenden Abbildung. Beachten Sie zudem alle Sonderfälle, die auftreten könnten.\n",
    "\n",
    "Hierbei ist zu beachten, dass die 'Anchor' und 'Sentinel' Elemente nicht vertauscht werden dürfen. Das bedeutet bei leeren Listen oder der Liste mit einem Element tut die Funktion _swap()_ nichts. \n",
    "\n",
    "Die folgende Abbildung zeigt das Verhalten der Funktion _swap()_ anhand von Beispielen:\n",
    "\n",
    "```\n",
    "Eingabe:                                Eingabe:\n",
    "   | |-->| |-->| |-->| |-->| |-->          | |-->| |-->| |\n",
    "   |A|   (1)   |2|   |3|   |S|             |A|   (1)   |S| \n",
    "<--| |<--| |<--| |<--| |<--| |          <--| |<--| |<--| |\n",
    "\n",
    "Ausgabe:                                Ausgabe:\n",
    "   | |-->| |-->| |-->| |-->| |-->          | |-->| |-->| |-->\n",
    "   |A|   |2|   (1)   |3|   |S|             |A|   (1)   |S|\n",
    "<--| |<--| |<--| |<--| |<--| |          <--| |<--| |<--| |\n",
    "```"
   ],
   "attachments":{
    
   },
   "metadata":{
    "datalore":{
     "type":"MD",
     "hide_input_from_viewers":false,
     "hide_output_from_viewers":false
    }
   }
  },
  {
   "cell_type":"code",
   "source":[
    "def swap(list):\n",
    "    \"\"\" Swap the current element with the next element in the list. \"\"\"\n",
    "    # YOUR CODE HERE\n",
    "    if list.cur.item in [\"Anchor\", \"Sentinel\"] or isLast(list):\n",
    "        return list\n",
    "    first = list.cur\n",
    "    last = list.cur.next\n",
    "    \n",
    "    first.next = last.next\n",
    "    last.prev = first.prev\n",
    "    last.prev.next = last\n",
    "    last.next.prev = first\n",
    "    last.next = first\n",
    "    first.prev = last\n",
    "    return list"
   ],
   "execution_count":593,
   "outputs":[
    
   ],
   "metadata":{
    "datalore":{
     "type":"CODE",
     "hide_input_from_viewers":false,
     "hide_output_from_viewers":false
    }
   }
  },
  {
   "cell_type":"code",
   "source":[
    "list = next(insert(1, insert(2, insert(3, insert(4, create())))))\n",
    "list = swap(list)\n",
    "assert_equal(str(list), \"Anchor, 2, (1), 3, 4, Sentinel\")"
   ],
   "execution_count":594,
   "outputs":[
    
   ],
   "metadata":{
    "datalore":{
     "type":"CODE",
     "hide_input_from_viewers":false,
     "hide_output_from_viewers":false
    }
   }
  },
  {
   "cell_type":"markdown",
   "source":[
    "## h) _reverse()_ - 4P.\n",
    "\n",
    "Die Funktion _reverse()_ bekommt eine Liste als Eingabe und gibt eine Liste zurück, wobei die Reihenfolge der Elemente umgekehrt wirde. Hierbei soll der Marker auf das aktuelle Element erhalten bleiben. \n",
    "\n",
    "Es ist zu beachten, dass die 'Anchor' und 'Sentinel' Elemente ihre Position beibehalten sollen. Das bedeutet bei leeren Listen oder der Liste mit einem Element tut die Funktion _reverse()_ nichts. \n",
    "\n",
    "Hilfestellung:\n",
    "Wir empfehlen die Aufgabe mit Hilfe einer Schleife zu lösen, die über alle Elemente der Liste iteriert und die entsprechenden Zeiger der Liste umbiegt. Das erste und letzte Element der Liste sind besonders zu behandeln.\n",
    "\n",
    "Die folgende Abbildung zeigt das Verhalten der Funktion _reverse()_ anhand von Beispielen:\n",
    "\n",
    "```\n",
    "Eingabe:                                Eingabe:\n",
    "   | |-->| |-->| |-->| |-->| |-->          | |-->| |-->| |\n",
    "   |A|   (1)   |2|   |3|   |S|             (A)   |1|   |S|\n",
    "<--| |<--| |<--| |<--| |<--| |          <--| |<--| |<--| |\n",
    "\n",
    "Ausgabe:                                Ausgabe:\n",
    "   | |-->| |-->| |-->| |-->| |-->          | |-->| |-->| |-->\n",
    "   |A|   |3|   |2|   (1)   |S|             (A)   |1|   |S|\n",
    "<--| |<--| |<--| |<--| |<--| |          <--| |<--| |<--| |    \n",
    "```"
   ],
   "attachments":{
    
   },
   "metadata":{
    "datalore":{
     "type":"MD",
     "hide_input_from_viewers":false,
     "hide_output_from_viewers":false
    }
   }
  },
  {
   "cell_type":"code",
   "source":[
    "def reverse(list):\n",
    "    \"\"\" Reverse the order of elements in the list. \"\"\"\n",
    "    # YOUR CODE HERE\n",
    "    if isEmpty(list):\n",
    "        return list\n",
    "    \n",
    "    current = list.head.next\n",
    "    next = current.next\n",
    "    connectTo = list.tail\n",
    "    while current.item != \"Sentinel\":\n",
    "        next = current.next\n",
    "        current.next = connectTo\n",
    "        connectTo.prev = current\n",
    "        \n",
    "        connectTo = current\n",
    "        current = next\n",
    "    \n",
    "    \n",
    "    list.head.next = connectTo\n",
    "    connectTo.prev = list.head\n",
    "\n",
    "    return list"
   ],
   "execution_count":595,
   "outputs":[
    
   ],
   "metadata":{
    "datalore":{
     "type":"CODE",
     "hide_input_from_viewers":false,
     "hide_output_from_viewers":false
    }
   }
  },
  {
   "cell_type":"code",
   "source":[
    "list = insert(1, insert(2, insert(3, insert(4, create()))))\n",
    "list = reverse(list)\n",
    "assert_equal(str(list), \"(Anchor), 4, 3, 2, 1, Sentinel\")"
   ],
   "execution_count":596,
   "outputs":[
    
   ],
   "metadata":{
    "datalore":{
     "type":"CODE",
     "hide_input_from_viewers":false,
     "hide_output_from_viewers":false
    }
   }
  },
  {
   "cell_type":"markdown",
   "source":[
    "## Jupyter Notebook Stolperfalle\n",
    "Bei der Benutzung von Jupyter Notebooks, wird der globale Zustand aller Variablen zwischen der Ausführung von verschiedenen Zellen erhalten. Dies ist auch der Fall, wenn Zellen gelöscht oder hinzugefügt werden.\n",
    "Um sicher zu gehen, dass nicht ausversehen notwendige Variablen überschrieben oder gelöscht wurden, kann der Befehl `Kernel -> Restart & Run All` ausgeführt werden."
   ],
   "attachments":{
    
   },
   "metadata":{
    "datalore":{
     "type":"MD",
     "hide_input_from_viewers":false,
     "hide_output_from_viewers":false
    }
   }
  }
 ],
 "metadata":{
  "datalore":{
   "version":1,
   "computation_mode":"JUPYTER",
   "package_manager":"pip",
   "base_environment":"default",
   "packages":[
    
   ]
  }
 },
 "nbformat":4,
 "nbformat_minor":4
}
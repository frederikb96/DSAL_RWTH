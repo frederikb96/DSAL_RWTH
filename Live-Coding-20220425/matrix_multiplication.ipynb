{
 "cells": [
  {
   "cell_type": "code",
   "execution_count": 1,
   "metadata": {},
   "outputs": [],
   "source": [
    "import numpy as np"
   ]
  },
  {
   "cell_type": "code",
   "execution_count": 2,
   "metadata": {},
   "outputs": [],
   "source": [
    "def mat_mult(r):\n",
    "    n = len(r) - 1\n",
    "    M = [x[:] for x in n * [n * [0]]]\n",
    "\n",
    "    for k in range(1, n):\n",
    "        for i in range(n - k):\n",
    "            val = float('inf')\n",
    "            for j in range(i, i + k):\n",
    "                new_val = M[i][j] + M[j + 1][i + k] + r[i] * r[j + 1] * r[i + k + 1]\n",
    "                if new_val < val:\n",
    "                    val = new_val\n",
    "            M[i][i + k] = val\n",
    "\n",
    "    return M"
   ]
  },
  {
   "cell_type": "code",
   "execution_count": 3,
   "metadata": {},
   "outputs": [],
   "source": [
    "def print_example(r):\n",
    "        m = mat_mult(r)\n",
    "        print(f\"Multiply matrices with dimensions:\\nr:\\n{r}\")\n",
    "        \n",
    "        print(f\"M:\\n{np.array(m)}\")\n",
    "        print(f\"Minimal number of multiplications: {m[0][-1]}\")"
   ]
  },
  {
   "cell_type": "code",
   "execution_count": 6,
   "metadata": {},
   "outputs": [
    {
     "name": "stdout",
     "output_type": "stream",
     "text": [
      "Multiply matrices with dimensions:\n",
      "r:\n",
      "[10, 1, 10, 2]\n",
      "M:\n",
      "[[  0 100  40]\n",
      " [  0   0  20]\n",
      " [  0   0   0]]\n",
      "Minimal number of multiplications: 40\n"
     ]
    }
   ],
   "source": [
    "print_example([10, 1, 10, 2])"
   ]
  },
  {
   "cell_type": "code",
   "execution_count": 5,
   "metadata": {},
   "outputs": [
    {
     "name": "stdout",
     "output_type": "stream",
     "text": [
      "Multiply matrices with dimensions:\n",
      "r:\n",
      "[30, 1, 40, 10, 25]\n",
      "M:\n",
      "[[    0  1200   700  1400]\n",
      " [    0     0   400   650]\n",
      " [    0     0     0 10000]\n",
      " [    0     0     0     0]]\n",
      "Minimal number of multiplications: 1400\n"
     ]
    }
   ],
   "source": [
    "print_example([30, 1, 40, 10, 25])"
   ]
  },
  {
   "cell_type": "code",
   "execution_count": null,
   "metadata": {},
   "outputs": [],
   "source": []
  }
 ],
 "metadata": {
  "kernelspec": {
   "display_name": "Python 3 (ipykernel)",
   "language": "python",
   "name": "python3"
  },
  "language_info": {
   "codemirror_mode": {
    "name": "ipython",
    "version": 3
   },
   "file_extension": ".py",
   "mimetype": "text/x-python",
   "name": "python",
   "nbconvert_exporter": "python",
   "pygments_lexer": "ipython3",
   "version": "3.10.4"
  }
 },
 "nbformat": 4,
 "nbformat_minor": 2
}

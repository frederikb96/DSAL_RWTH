{
 "cells": [
  {
   "cell_type": "markdown",
   "metadata": {},
   "source": [
    "## Queue and Stack implementation based on Python-lists"
   ]
  },
  {
   "cell_type": "code",
   "execution_count": 3,
   "metadata": {},
   "outputs": [],
   "source": [
    "def create():\n",
    "    return []\n",
    "\n",
    "\n",
    "def enq(item, queue):\n",
    "    queue = queue + [item]\n",
    "    return queue\n",
    "\n",
    "\n",
    "def deq(queue):\n",
    "    queue = queue[1:]\n",
    "    return queue\n",
    "\n",
    "\n",
    "def get(queue):\n",
    "    return queue[0]\n",
    "\n",
    "\n",
    "def isEmpty(queue):\n",
    "    return len(queue) == 0"
   ]
  },
  {
   "cell_type": "markdown",
   "metadata": {},
   "source": [
    "## unit test: queue"
   ]
  },
  {
   "cell_type": "code",
   "execution_count": 4,
   "metadata": {},
   "outputs": [
    {
     "name": "stdout",
     "output_type": "stream",
     "text": [
      "[]\n",
      "[1]\n",
      "[1, 2]\n",
      "[1, 2, 3]\n",
      "1\n",
      "[2, 3]\n",
      "2\n",
      "[2, 3, 4]\n"
     ]
    }
   ],
   "source": [
    "Q = create()\n",
    "print(Q)\n",
    "\n",
    "Q = enq(1,Q)\n",
    "print(Q)\n",
    "\n",
    "Q = enq(2,Q)\n",
    "print(Q)\n",
    "\n",
    "Q = enq(3,Q)\n",
    "print(Q)\n",
    "\n",
    "print(get(Q))\n",
    "\n",
    "Q = deq(Q)\n",
    "print(Q)\n",
    "\n",
    "print(get(Q))\n",
    "\n",
    "Q = enq(4,Q)\n",
    "print(Q)"
   ]
  },
  {
   "cell_type": "markdown",
   "metadata": {},
   "source": [
    "## stack implementation"
   ]
  },
  {
   "cell_type": "code",
   "execution_count": 5,
   "metadata": {},
   "outputs": [],
   "source": [
    "def create():\n",
    "    return []\n",
    "\n",
    "\n",
    "def push(item, stack):\n",
    "    stack = [item] + stack\n",
    "    return stack\n",
    "\n",
    "\n",
    "def pop(stack):\n",
    "    return stack[1:]\n",
    "\n",
    "\n",
    "def top(stack):\n",
    "    return stack[0]\n",
    "\n",
    "\n",
    "def isEmpty(stack):\n",
    "    return len(stack) == 0"
   ]
  },
  {
   "cell_type": "markdown",
   "metadata": {},
   "source": [
    "## unit test: stack"
   ]
  },
  {
   "cell_type": "code",
   "execution_count": 6,
   "metadata": {},
   "outputs": [
    {
     "name": "stdout",
     "output_type": "stream",
     "text": [
      "[]\n",
      "[1]\n",
      "[2, 1]\n",
      "[3, 2, 1]\n",
      "3\n",
      "[2, 1]\n",
      "2\n",
      "[4, 2, 1]\n"
     ]
    }
   ],
   "source": [
    "S = create()\n",
    "print(S)\n",
    "\n",
    "S = push(1,S)\n",
    "print(S)\n",
    "\n",
    "S = push(2,S)\n",
    "print(S)\n",
    "\n",
    "S = push(3,S)\n",
    "print(S)\n",
    "\n",
    "print(top(S))\n",
    "\n",
    "S = pop(S)\n",
    "print(S)\n",
    "\n",
    "print(top(S))\n",
    "\n",
    "S = push(4,S)\n",
    "print(S)"
   ]
  }
 ],
 "metadata": {
  "kernelspec": {
   "display_name": "Python 3.7.9 64-bit ('dsal': conda)",
   "name": "python379jvsc74a57bd0547c114a8eef8ad3c5b761cf221a4d3afb6535da2b2ba4a63617707fc7fbdff3"
  },
  "language_info": {
   "name": "python",
   "version": ""
  }
 },
 "nbformat": 4,
 "nbformat_minor": 4
}
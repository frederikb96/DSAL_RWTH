{
 "cells": [
  {
   "cell_type": "code",
   "execution_count": 1,
   "metadata": {},
   "outputs": [],
   "source": [
    "from time import time"
   ]
  },
  {
   "cell_type": "code",
   "execution_count": 2,
   "metadata": {},
   "outputs": [],
   "source": [
    "def fib_rec(n):\n",
    "    if n <= 1:\n",
    "        return n\n",
    "    else:\n",
    "        return fib_rec(n - 1) + fib_rec(n - 2)\n",
    "\n",
    "\n",
    "def fibonacci_rec(n):\n",
    "    f = []\n",
    "    for i in range(n):\n",
    "        f += [fib_rec(i)]\n",
    "    return f"
   ]
  },
  {
   "cell_type": "code",
   "execution_count": 3,
   "metadata": {},
   "outputs": [],
   "source": [
    "def fib_mem(n, f):\n",
    "    if f[n] < 0:\n",
    "        if n <= 1:\n",
    "            f[n] = n\n",
    "        else:\n",
    "            f[n] = fib_mem(n - 1, f) + fib_mem(n - 2, f)\n",
    "    return f[n]\n",
    "\n",
    "\n",
    "def fibonacci_mem(n):\n",
    "    f = n * [-1]\n",
    "    fib_mem(n - 1, f)\n",
    "    return f"
   ]
  },
  {
   "cell_type": "code",
   "execution_count": 4,
   "metadata": {},
   "outputs": [
    {
     "name": "stdout",
     "output_type": "stream",
     "text": [
      "Generate 10 fibonacci numbers. \n",
      "Runtime recursive: 0.9832 ms\n",
      "Runtime memory: 0.0000 ms\n"
     ]
    }
   ],
   "source": [
    "n = 10\n",
    "\n",
    "start = time()\n",
    "fibonacci_rec(n)\n",
    "runtime_rec = time() - start\n",
    "\n",
    "start = time()\n",
    "fibonacci_mem(n)\n",
    "runtime_mem = time() - start\n",
    "\n",
    "print(f\"Generate {n} fibonacci numbers. \")\n",
    "print(f\"Runtime recursive: {1000*(runtime_rec):.4f} ms\")\n",
    "print(f\"Runtime memory: {1000*(runtime_mem):.4f} ms\")"
   ]
  },
  {
   "cell_type": "code",
   "execution_count": null,
   "metadata": {},
   "outputs": [],
   "source": []
  },
  {
   "cell_type": "code",
   "execution_count": null,
   "metadata": {},
   "outputs": [],
   "source": []
  }
 ],
 "metadata": {
  "kernelspec": {
   "display_name": "Python 3 (ipykernel)",
   "language": "python",
   "name": "python3"
  },
  "language_info": {
   "codemirror_mode": {
    "name": "ipython",
    "version": 3
   },
   "file_extension": ".py",
   "mimetype": "text/x-python",
   "name": "python",
   "nbconvert_exporter": "python",
   "pygments_lexer": "ipython3",
   "version": "3.10.4"
  }
 },
 "nbformat": 4,
 "nbformat_minor": 2
}

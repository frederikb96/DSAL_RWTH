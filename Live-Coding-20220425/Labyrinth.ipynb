{
 "cells": [
  {
   "cell_type": "code",
   "execution_count": 20,
   "metadata": {},
   "outputs": [],
   "source": [
    "import numpy as np"
   ]
  },
  {
   "cell_type": "markdown",
   "metadata": {},
   "source": [
    "## Labyrinth Search: RECURSIVE"
   ]
  },
  {
   "cell_type": "code",
   "execution_count": 21,
   "metadata": {},
   "outputs": [
    {
     "name": "stdout",
     "output_type": "stream",
     "text": [
      "[[1 1 1 1 1 1 1 1 1 1]\n",
      " [1 2 1 1 0 1 0 1 0 1]\n",
      " [1 2 1 3 3 1 3 1 3 1]\n",
      " [1 2 2 2 1 1 3 1 3 1]\n",
      " [1 0 1 2 2 2 2 2 2 1]\n",
      " [1 0 1 0 1 1 1 1 2 1]\n",
      " [1 0 1 0 1 2 2 2 2 1]\n",
      " [1 0 1 0 1 2 1 1 1 1]\n",
      " [1 0 1 0 1 2 2 2 2 1]\n",
      " [1 1 1 1 1 1 1 1 1 1]]\n",
      "\n",
      "['S', 'S', 'O', 'O', 'S', 'O', 'O', 'O', 'O', 'O', 'S', 'S', 'W', 'W', 'W', 'S', 'S', 'O', 'O', 'O']\n"
     ]
    }
   ],
   "source": [
    "W = np.matrix([[1,1,1,1,1,1,1,1,1,1],          ### transpose to convert to column order\n",
    "               [1,0,1,1,0,1,0,1,0,1],          ### --> may use W[x,y] instead of W[y,x]\n",
    "               [1,0,1,0,0,1,0,1,0,1],\n",
    "               [1,0,0,0,1,1,0,1,0,1],\n",
    "               [1,0,1,0,0,0,0,0,0,1],\n",
    "               [1,0,1,0,1,1,1,1,0,1],\n",
    "               [1,0,1,0,1,0,0,0,0,1],\n",
    "               [1,0,1,0,1,0,1,1,1,1],\n",
    "               [1,0,1,0,1,0,0,0,0,1],\n",
    "               [1,1,1,1,1,1,1,1,1,1]]).transpose()\n",
    "\n",
    "dir = [\"N\",\"O\",\"S\",\"W\"]\n",
    "\n",
    "walk = {\"N\": ( 0,-1),\n",
    "        \"O\": ( 1, 0),\n",
    "        \"S\": ( 0, 1),\n",
    "        \"W\": (-1, 0)}\n",
    "\n",
    "start = (1,1)\n",
    "end   = (8,8) \n",
    "path  = []\n",
    "\n",
    "##################################################\n",
    "\n",
    "def SEARCH(P,Q):\n",
    "    global path\n",
    "\n",
    "    if P == Q:\n",
    "        path = []\n",
    "        return True\n",
    "    else:\n",
    "        for r in dir:\n",
    "            x = P[0] + walk[r][0]\n",
    "            y = P[1] + walk[r][1]\n",
    "\n",
    "            if W[x,y] == 0:\n",
    "                W[P] = 2\n",
    "                if SEARCH((x,y),Q):\n",
    "                    path = [r] + path\n",
    "                    return True\n",
    "                else:\n",
    "                    W[P] = 3\n",
    "        return False\n",
    "\n",
    "##################################################\n",
    "\n",
    "if SEARCH(start,end):\n",
    "    W[end] = 2\n",
    "    print(W.transpose())\n",
    "    print()\n",
    "    print(path)"
   ]
  },
  {
   "cell_type": "markdown",
   "metadata": {},
   "source": [
    "## stack implementation based on single linked list"
   ]
  },
  {
   "cell_type": "code",
   "execution_count": 22,
   "metadata": {},
   "outputs": [],
   "source": [
    "class Node:\n",
    "    def __init__(self, item):\n",
    "        self.item = item\n",
    "        self.next = None\n",
    "        \n",
    "class Stack:\n",
    "    def __init__(self):\n",
    "        self.head = None\n",
    "    \n",
    "    def isEmpty(self):\n",
    "        return self.head == None\n",
    "    \n",
    "    def push(self,item):\n",
    "        new = Node(item)\n",
    "        new.next = self.head\n",
    "        self.head = new\n",
    "        \n",
    "    def pop(self):\n",
    "        self.head = self.head.next\n",
    "    \n",
    "    def top(self):\n",
    "        return self.head.item"
   ]
  },
  {
   "cell_type": "markdown",
   "metadata": {},
   "source": [
    "## unit test: stack"
   ]
  },
  {
   "cell_type": "code",
   "execution_count": 23,
   "metadata": {},
   "outputs": [
    {
     "name": "stdout",
     "output_type": "stream",
     "text": [
      "1 False\n",
      "3 False\n",
      "5 False\n",
      "7 False\n",
      "True\n"
     ]
    }
   ],
   "source": [
    "S = Stack()\n",
    "\n",
    "S.push(7)\n",
    "S.push(5)\n",
    "S.push(3)\n",
    "S.push(1)\n",
    "\n",
    "print(S.top(),S.isEmpty())\n",
    "S.pop()\n",
    "print(S.top(),S.isEmpty())\n",
    "S.pop()\n",
    "print(S.top(),S.isEmpty())\n",
    "S.pop()\n",
    "print(S.top(),S.isEmpty())\n",
    "S.pop()\n",
    "print(S.isEmpty())"
   ]
  },
  {
   "cell_type": "markdown",
   "metadata": {},
   "source": [
    "## Labyrinth Search: ITERATIVE"
   ]
  },
  {
   "cell_type": "code",
   "execution_count": 24,
   "metadata": {},
   "outputs": [
    {
     "name": "stdout",
     "output_type": "stream",
     "text": [
      "[[1 1 1 1 1 1 1 1 1 1]\n",
      " [1 2 1 1 3 1 3 1 3 1]\n",
      " [1 2 1 3 3 1 3 1 3 1]\n",
      " [1 2 2 2 1 1 3 1 3 1]\n",
      " [1 0 1 2 2 2 2 2 2 1]\n",
      " [1 0 1 0 1 1 1 1 2 1]\n",
      " [1 0 1 0 1 2 2 2 2 1]\n",
      " [1 0 1 0 1 2 1 1 1 1]\n",
      " [1 0 1 0 1 2 2 2 2 1]\n",
      " [1 1 1 1 1 1 1 1 1 1]]\n",
      "\n",
      "['S', 'S', 'O', 'O', 'S', 'O', 'O', 'O', 'O', 'O', 'S', 'S', 'W', 'W', 'W', 'S', 'S', 'O', 'O', 'O']\n"
     ]
    }
   ],
   "source": [
    "W = np.matrix([[1,1,1,1,1,1,1,1,1,1],          ### transpose to convert to column order\n",
    "               [1,0,1,1,0,1,0,1,0,1],          ### --> may use W[x,y] instead of W[y,x]\n",
    "               [1,0,1,0,0,1,0,1,0,1],\n",
    "               [1,0,0,0,1,1,0,1,0,1],\n",
    "               [1,0,1,0,0,0,0,0,0,1],\n",
    "               [1,0,1,0,1,1,1,1,0,1],\n",
    "               [1,0,1,0,1,0,0,0,0,1],\n",
    "               [1,0,1,0,1,0,1,1,1,1],\n",
    "               [1,0,1,0,1,0,0,0,0,1],\n",
    "               [1,1,1,1,1,1,1,1,1,1]]).transpose()\n",
    "\n",
    "dir = [\"N\",\"O\",\"S\",\"W\"]\n",
    "\n",
    "walk = {\"N\": ( 0,-1),\n",
    "        \"O\": ( 1, 0),\n",
    "        \"S\": ( 0, 1),\n",
    "        \"W\": (-1, 0)}\n",
    "\n",
    "start = (1,1)\n",
    "end   = (8,8) \n",
    "path  = []\n",
    "\n",
    "##################################################\n",
    "\n",
    "P = start\n",
    "Q = end\n",
    "\n",
    "S = Stack()\n",
    "\n",
    "while (P != Q):\n",
    "    for r in dir:\n",
    "        x = P[0] + walk[r][0]\n",
    "        y = P[1] + walk[r][1]\n",
    "\n",
    "        if W[x,y] == 0:\n",
    "            W[P] = 2\n",
    "            S.push((P,r))\n",
    "            P = (x,y)\n",
    "            break\n",
    "    else:\n",
    "        W[P] = 3\n",
    "        (P,r) = S.top()\n",
    "        S.pop()\n",
    "        W[P] = 0\n",
    "\n",
    "W[end] = 2\n",
    "\n",
    "while not S.isEmpty():\n",
    "    path = [S.top()[1]] + path\n",
    "    S.pop()\n",
    "\n",
    "print(W.transpose())\n",
    "print()\n",
    "print(path)"
   ]
  },
  {
   "cell_type": "code",
   "execution_count": null,
   "metadata": {},
   "outputs": [],
   "source": []
  }
 ],
 "metadata": {
  "kernelspec": {
   "display_name": "Python 3",
   "language": "python",
   "name": "python3"
  },
  "language_info": {
   "codemirror_mode": {
    "name": "ipython",
    "version": 3
   },
   "file_extension": ".py",
   "mimetype": "text/x-python",
   "name": "python",
   "nbconvert_exporter": "python",
   "pygments_lexer": "ipython3",
   "version": "3.8.5"
  }
 },
 "nbformat": 4,
 "nbformat_minor": 4
}

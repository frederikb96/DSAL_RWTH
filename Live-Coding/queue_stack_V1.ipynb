{
 "cells": [
  {
   "cell_type": "markdown",
   "metadata": {},
   "source": [
    "## Queue and Stack implementation based on Doubly Linked List"
   ]
  },
  {
   "cell_type": "code",
   "execution_count": 3,
   "metadata": {},
   "outputs": [],
   "source": [
    "class Node:\n",
    "    def __init__(self, item):\n",
    "        self.item = item\n",
    "        self.prev = None\n",
    "        self.next = None\n",
    "\n",
    "    def __repr__(self):\n",
    "        return str(self.item)\n",
    "\n",
    "\n",
    "class DoublyLinkedList:\n",
    "    def __init__(self):\n",
    "        self.head = Node(\"Anchor\")\n",
    "        self.tail = Node(\"Sentinel\")\n",
    "        self.head.next = self.tail\n",
    "        self.tail.prev = self.head\n",
    "\n",
    "    def __repr__(self):\n",
    "        str_out = str(self.head)\n",
    "        x = self.head.next\n",
    "        while x is not None:\n",
    "            str_out += \", \" + str(x)\n",
    "            x = x.next\n",
    "        return str_out"
   ]
  },
  {
   "cell_type": "markdown",
   "metadata": {},
   "source": [
    "## queue implementation"
   ]
  },
  {
   "cell_type": "code",
   "execution_count": 5,
   "metadata": {},
   "outputs": [],
   "source": [
    "def create():\n",
    "    return DoublyLinkedList()\n",
    "\n",
    "\n",
    "def get(queue):\n",
    "    return queue.head.next.item\n",
    "\n",
    "\n",
    "def isEmpty(queue):\n",
    "    return queue.head.next.item == \"Sentinel\"\n",
    "\n",
    "\n",
    "def enq(item, queue):\n",
    "    node = Node(item)\n",
    "    node.prev = queue.tail.prev\n",
    "    node.next = queue.tail\n",
    "    node.prev.next = node\n",
    "    node.next.prev = node\n",
    "\n",
    "\n",
    "def deq(queue):\n",
    "    queue.head.next      = queue.head.next.next\n",
    "    queue.head.next.prev = queue.head"
   ]
  },
  {
   "cell_type": "markdown",
   "metadata": {},
   "source": [
    "## unit test: queue"
   ]
  },
  {
   "cell_type": "code",
   "execution_count": 6,
   "metadata": {},
   "outputs": [
    {
     "name": "stdout",
     "output_type": "stream",
     "text": [
      "Anchor, Sentinel\n",
      "Anchor, 1, Sentinel\n",
      "Anchor, 1, 2, Sentinel\n",
      "Anchor, 1, 2, 3, Sentinel\n",
      "1\n",
      "Anchor, 2, 3, Sentinel\n",
      "2\n",
      "Anchor, 2, 3, 4, Sentinel\n"
     ]
    }
   ],
   "source": [
    "Q = create()\n",
    "print(Q)\n",
    "\n",
    "enq(1,Q)\n",
    "print(Q)\n",
    "\n",
    "enq(2,Q)\n",
    "print(Q)\n",
    "\n",
    "enq(3,Q)\n",
    "print(Q)\n",
    "\n",
    "print(get(Q))\n",
    "\n",
    "deq(Q)\n",
    "print(Q)\n",
    "\n",
    "print(get(Q))\n",
    "\n",
    "enq(4,Q)\n",
    "print(Q)"
   ]
  },
  {
   "cell_type": "markdown",
   "metadata": {},
   "source": [
    "## stack implementation"
   ]
  },
  {
   "cell_type": "code",
   "execution_count": 7,
   "metadata": {},
   "outputs": [],
   "source": [
    "def create():\n",
    "    return DoublyLinkedList()\n",
    "\n",
    "\n",
    "def push(item, stack):\n",
    "    node = Node(item)\n",
    "    node.prev = stack.head\n",
    "    node.next = stack.head.next\n",
    "    node.prev.next = node\n",
    "    node.next.prev = node\n",
    "\n",
    "\n",
    "def pop(stack):\n",
    "    stack.head.next      = stack.head.next.next\n",
    "    stack.head.next.prev = stack.head\n",
    "\n",
    "\n",
    "def top(stack):\n",
    "    return stack.head.next.item\n",
    "\n",
    "\n",
    "def isEmpty(stack):\n",
    "    return stack.head.next.item == \"Sentinel\""
   ]
  },
  {
   "cell_type": "markdown",
   "metadata": {},
   "source": [
    "## unit test: stack"
   ]
  },
  {
   "cell_type": "code",
   "execution_count": 8,
   "metadata": {},
   "outputs": [
    {
     "name": "stdout",
     "output_type": "stream",
     "text": [
      "Anchor, Sentinel\n",
      "Anchor, 1, Sentinel\n",
      "Anchor, 2, 1, Sentinel\n",
      "Anchor, 3, 2, 1, Sentinel\n",
      "3\n",
      "Anchor, 2, 1, Sentinel\n",
      "2\n",
      "Anchor, 4, 2, 1, Sentinel\n"
     ]
    }
   ],
   "source": [
    "S = create()\n",
    "print(S)\n",
    "\n",
    "push(1,S)\n",
    "print(S)\n",
    "\n",
    "push(2,S)\n",
    "print(S)\n",
    "\n",
    "push(3,S)\n",
    "print(S)\n",
    "\n",
    "print(top(S))\n",
    "\n",
    "pop(S)\n",
    "print(S)\n",
    "\n",
    "print(top(S))\n",
    "\n",
    "push(4,S)\n",
    "print(S)"
   ]
  }
 ],
 "metadata": {
  "kernelspec": {
   "display_name": "Python 3.7.9 64-bit ('dsal': conda)",
   "name": "python379jvsc74a57bd0547c114a8eef8ad3c5b761cf221a4d3afb6535da2b2ba4a63617707fc7fbdff3"
  },
  "language_info": {
   "name": "python",
   "version": ""
  }
 },
 "nbformat": 4,
 "nbformat_minor": 4
}
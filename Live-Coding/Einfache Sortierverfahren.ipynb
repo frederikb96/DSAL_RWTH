{
 "cells": [
  {
   "cell_type": "markdown",
   "metadata": {},
   "source": [
    "## Einfache Sortierverfahren"
   ]
  },
  {
   "cell_type": "code",
   "execution_count": 4,
   "metadata": {},
   "outputs": [],
   "source": [
    "def swap(A,i,j):\n",
    "    temp = A[i]\n",
    "    A[i] = A[j]\n",
    "    A[j] = temp"
   ]
  },
  {
   "cell_type": "markdown",
   "metadata": {},
   "source": [
    "## Selection Sort"
   ]
  },
  {
   "cell_type": "code",
   "execution_count": 13,
   "metadata": {},
   "outputs": [],
   "source": [
    "def selection_sort(A,n):\n",
    "\n",
    "    c_ass = 0\n",
    "    c_cmp = 0\n",
    "    \n",
    "    for i in range(n):\n",
    "        \n",
    "        min = i\n",
    "        for j in range(i+1,n):\n",
    "            c_cmp += 1\n",
    "            if A[j] < A[min]:\n",
    "                min = j\n",
    "            \n",
    "        swap(A,i,min)\n",
    "        c_ass += 3\n",
    "        \n",
    "    return (c_ass,c_cmp)"
   ]
  },
  {
   "cell_type": "markdown",
   "metadata": {},
   "source": [
    "## Bubble Sort"
   ]
  },
  {
   "cell_type": "code",
   "execution_count": 20,
   "metadata": {},
   "outputs": [],
   "source": [
    "def bubble_sort(A,n):\n",
    "    \n",
    "    c_ass = 0\n",
    "    c_cmp = 0\n",
    "    \n",
    "    for i in range(n):\n",
    "        for j in range(n-1,i,-1):\n",
    "            c_cmp += 1\n",
    "            if A[j] < A[j-1]:\n",
    "                c_ass += 3\n",
    "                swap(A,j,j-1)\n",
    "                \n",
    "    return (c_ass,c_cmp)"
   ]
  },
  {
   "cell_type": "markdown",
   "metadata": {},
   "source": [
    "## Insertion Sort"
   ]
  },
  {
   "cell_type": "code",
   "execution_count": 28,
   "metadata": {},
   "outputs": [],
   "source": [
    "def insertion_sort(A,n):\n",
    "    \n",
    "    c_ass = 0\n",
    "    c_cmp = 0\n",
    "    \n",
    "    for i in range(1,n):\n",
    "    \n",
    "        tmp = A[i]\n",
    "        c_ass += 1\n",
    "        j = i\n",
    "        c_cmp += 1\n",
    "        \n",
    "        while j>0 and A[j-1] > tmp:\n",
    "            A[j] = A[j-1]\n",
    "            j -= 1\n",
    "            c_ass += 1\n",
    "            c_cmp += 1\n",
    "        \n",
    "        A[j] = tmp\n",
    "        c_ass += 1\n",
    "        \n",
    "    return (c_ass,c_cmp)\n",
    "        "
   ]
  },
  {
   "cell_type": "markdown",
   "metadata": {},
   "source": [
    "## Unit Test"
   ]
  },
  {
   "cell_type": "code",
   "execution_count": 29,
   "metadata": {},
   "outputs": [
    {
     "name": "stdout",
     "output_type": "stream",
     "text": [
      "SEL_average: (30, 45) [0, 1, 2, 3, 4, 5, 6, 7, 8, 9]\n",
      "SEL_best:    (30, 45) [0, 1, 2, 3, 4, 5, 6, 7, 8, 9]\n",
      "SEL_worst:   (30, 45) [0, 1, 2, 3, 4, 5, 6, 7, 8, 9]\n",
      "SEL_average: (60, 190) [0, 1, 2, 3, 4, 5, 6, 7, 8, 9, 10, 11, 12, 13, 14, 15, 16, 17, 18, 19]\n",
      "SEL_average: (150, 1225) [0, 1, 2, 3, 4, 5, 6, 7, 8, 9, 10, 11, 12, 13, 14, 15, 16, 17, 18, 19, 20, 21, 22, 23, 24, 25, 26, 27, 28, 29, 30, 31, 32, 33, 34, 35, 36, 37, 38, 39, 40, 41, 42, 43, 44, 45, 46, 47, 48, 49]\n",
      "\n",
      "BUB_average: (75, 45) [0, 1, 2, 3, 4, 5, 6, 7, 8, 9]\n",
      "BUB_best:    (0, 45) [0, 1, 2, 3, 4, 5, 6, 7, 8, 9]\n",
      "BUB_worst:   (135, 45) [0, 1, 2, 3, 4, 5, 6, 7, 8, 9]\n",
      "BUB_average: (285, 190) [0, 1, 2, 3, 4, 5, 6, 7, 8, 9, 10, 11, 12, 13, 14, 15, 16, 17, 18, 19]\n",
      "BUB_average: (1767, 1225) [0, 1, 2, 3, 4, 5, 6, 7, 8, 9, 10, 11, 12, 13, 14, 15, 16, 17, 18, 19, 20, 21, 22, 23, 24, 25, 26, 27, 28, 29, 30, 31, 32, 33, 34, 35, 36, 37, 38, 39, 40, 41, 42, 43, 44, 45, 46, 47, 48, 49]\n",
      "\n",
      "INS_average: (43, 34) [0, 1, 2, 3, 4, 5, 6, 7, 8, 9]\n",
      "INS_best:    (18, 9) [0, 1, 2, 3, 4, 5, 6, 7, 8, 9]\n",
      "INS_worst:   (63, 54) [0, 1, 2, 3, 4, 5, 6, 7, 8, 9]\n",
      "INS_average: (133, 114) [0, 1, 2, 3, 4, 5, 6, 7, 8, 9, 10, 11, 12, 13, 14, 15, 16, 17, 18, 19]\n",
      "INS_average: (687, 638) [0, 1, 2, 3, 4, 5, 6, 7, 8, 9, 10, 11, 12, 13, 14, 15, 16, 17, 18, 19, 20, 21, 22, 23, 24, 25, 26, 27, 28, 29, 30, 31, 32, 33, 34, 35, 36, 37, 38, 39, 40, 41, 42, 43, 44, 45, 46, 47, 48, 49]\n"
     ]
    }
   ],
   "source": [
    "n = 10\n",
    "\n",
    "A = [5,8,2,3,9,1,4,7,0,6]\n",
    "print(\"SEL_average:\",selection_sort(A,n),A)\n",
    "B = [0,1,2,3,4,5,6,7,8,9]\n",
    "print(\"SEL_best:   \",selection_sort(B,n),B)\n",
    "C = [9,8,7,6,5,4,3,2,1,0]\n",
    "print(\"SEL_worst:  \",selection_sort(C,n),C)\n",
    "D = [16,5,13,8,10,2,17,3,14,9,1,15,4,18,7,11,0,19,6,12]\n",
    "print(\"SEL_average:\",selection_sort(D,2*n),D)\n",
    "E = [29,46,16,40,20,5,28,13,32,8,35,10,45,23,36,2,17,3,14,44,37,47,9,22,1,30,43,15,38,4,18,25,7,31,24,48,11,33,21,42,0,39,19,49,6,27,12,41,34,26]\n",
    "print(\"SEL_average:\",selection_sort(E,5*n),E)\n",
    "\n",
    "print()\n",
    "A = [5,8,2,3,9,1,4,7,0,6]\n",
    "print(\"BUB_average:\",bubble_sort(A,n),A)\n",
    "B = [0,1,2,3,4,5,6,7,8,9]\n",
    "print(\"BUB_best:   \",bubble_sort(B,n),B)\n",
    "C = [9,8,7,6,5,4,3,2,1,0]\n",
    "print(\"BUB_worst:  \",bubble_sort(C,n),C)\n",
    "D = [16,5,13,8,10,2,17,3,14,9,1,15,4,18,7,11,0,19,6,12]\n",
    "print(\"BUB_average:\",bubble_sort(D,2*n),D)\n",
    "E = [29,46,16,40,20,5,28,13,32,8,35,10,45,23,36,2,17,3,14,44,37,47,9,22,1,30,43,15,38,4,18,25,7,31,24,48,11,33,21,42,0,39,19,49,6,27,12,41,34,26]\n",
    "print(\"BUB_average:\",bubble_sort(E,5*n),E)\n",
    "\n",
    "print()\n",
    "A = [5,8,2,3,9,1,4,7,0,6]\n",
    "print(\"INS_average:\",insertion_sort(A,n),A)\n",
    "B = [0,1,2,3,4,5,6,7,8,9]\n",
    "print(\"INS_best:   \",insertion_sort(B,n),B)\n",
    "C = [9,8,7,6,5,4,3,2,1,0]\n",
    "print(\"INS_worst:  \",insertion_sort(C,n),C)\n",
    "D = [16,5,13,8,10,2,17,3,14,9,1,15,4,18,7,11,0,19,6,12]\n",
    "print(\"INS_average:\",insertion_sort(D,2*n),D)\n",
    "E = [29,46,16,40,20,5,28,13,32,8,35,10,45,23,36,2,17,3,14,44,37,47,9,22,1,30,43,15,38,4,18,25,7,31,24,48,11,33,21,42,0,39,19,49,6,27,12,41,34,26]\n",
    "print(\"INS_average:\",insertion_sort(E,5*n),E)"
   ]
  },
  {
   "cell_type": "code",
   "execution_count": null,
   "metadata": {},
   "outputs": [],
   "source": []
  }
 ],
 "metadata": {
  "kernelspec": {
   "display_name": "Python 3 (ipykernel)",
   "language": "python",
   "name": "python3"
  },
  "language_info": {
   "codemirror_mode": {
    "name": "ipython",
    "version": 3
   },
   "file_extension": ".py",
   "mimetype": "text/x-python",
   "name": "python",
   "nbconvert_exporter": "python",
   "pygments_lexer": "ipython3",
   "version": "3.10.4"
  }
 },
 "nbformat": 4,
 "nbformat_minor": 4
}

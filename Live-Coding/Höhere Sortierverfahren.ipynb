{
 "cells": [
  {
   "cell_type": "markdown",
   "metadata": {},
   "source": [
    "## Höhere Sortierverfahren"
   ]
  },
  {
   "cell_type": "code",
   "execution_count": 149,
   "metadata": {},
   "outputs": [],
   "source": [
    "def swap(A,i,j):\n",
    "    temp = A[i]\n",
    "    A[i] = A[j]\n",
    "    A[j] = temp\n",
    "    \n",
    "def min(a,b):\n",
    "    if a < b:\n",
    "        return a\n",
    "    else:\n",
    "        return b"
   ]
  },
  {
   "cell_type": "markdown",
   "metadata": {},
   "source": [
    "## Quick Sort"
   ]
  },
  {
   "cell_type": "code",
   "execution_count": 150,
   "metadata": {},
   "outputs": [],
   "source": [
    "def partition_x(A,l,r):\n",
    "    i = l-1\n",
    "    j = r\n",
    "\n",
    "    while i < j:\n",
    "        i += 1\n",
    "        while A[i] < A[r]: i += 1\n",
    "        j -= 1\n",
    "        while A[j] > A[r]: j -= 1\n",
    "        swap(A,i,j)\n",
    "\n",
    "    swap(A,i,j)\n",
    "    swap(A,i,r)\n",
    "    return i"
   ]
  },
  {
   "cell_type": "code",
   "execution_count": 151,
   "metadata": {},
   "outputs": [],
   "source": [
    "def quick_sort_x(A,l,r):\n",
    "\n",
    "    if l < r:\n",
    "        m = partition(A,l,r)\n",
    "        quick_sort(A,l,m-1)\n",
    "        quick_sort(A,m+1,r)"
   ]
  },
  {
   "cell_type": "code",
   "execution_count": 152,
   "metadata": {},
   "outputs": [],
   "source": [
    "def partition(A,l,r):\n",
    "    \n",
    "    c_ass = 0\n",
    "    c_cmp = 0\n",
    "\n",
    "    i = l-1\n",
    "    j = r\n",
    "\n",
    "    while i < j:\n",
    "        i += 1\n",
    "        c_cmp += 1\n",
    "        while A[i] < A[r]:\n",
    "            i += 1\n",
    "            c_cmp += 1\n",
    "        j -= 1\n",
    "        c_cmp += 1\n",
    "        while A[j] > A[r]:\n",
    "            j -= 1\n",
    "            c_cmp += 1\n",
    "        swap(A,i,j)\n",
    "        c_ass += 3\n",
    "\n",
    "    swap(A,i,j)\n",
    "    c_ass += 3\n",
    "    swap(A,i,r)\n",
    "    c_ass += 3\n",
    "    \n",
    "    return (i,c_ass,c_cmp)"
   ]
  },
  {
   "cell_type": "code",
   "execution_count": 153,
   "metadata": {},
   "outputs": [],
   "source": [
    "def quick_sort(A,l,r):\n",
    "    \n",
    "    c_ass = 0\n",
    "    c_cmp = 0\n",
    "\n",
    "    if l < r:\n",
    "        (m,c_ass,c_cmp) = partition(A,l,r)\n",
    "        (a,b) = quick_sort(A,l,m-1)\n",
    "        (c,d) = quick_sort(A,m+1,r)\n",
    "        c_ass += a+c\n",
    "        c_cmp += b+d\n",
    "        \n",
    "    return (c_ass,c_cmp)"
   ]
  },
  {
   "cell_type": "markdown",
   "metadata": {},
   "source": [
    "## Merge Sort"
   ]
  },
  {
   "cell_type": "code",
   "execution_count": 154,
   "metadata": {},
   "outputs": [],
   "source": [
    "def merge_x(A,l,m,r):\n",
    "    B = (r-l+1) * [0]\n",
    "    i = 0\n",
    "    j = l\n",
    "    k = m+1\n",
    "    \n",
    "    while j<=m and k<=r:\n",
    "        if A[j] < A[k]:\n",
    "            B[i] = A[j]\n",
    "            i += 1\n",
    "            j += 1\n",
    "        else:\n",
    "            B[i] = A[k]\n",
    "            i += 1\n",
    "            k += 1\n",
    "\n",
    "    while j<=m:\n",
    "        B[i] = A[j]\n",
    "        i += 1\n",
    "        j += 1\n",
    "\n",
    "    while k<=r:\n",
    "        B[i] = A[k]\n",
    "        i += 1\n",
    "        k += 1\n",
    "\n",
    "    for i in range(l,r+1):\n",
    "        A[i] = B[i-l]"
   ]
  },
  {
   "cell_type": "code",
   "execution_count": 155,
   "metadata": {},
   "outputs": [],
   "source": [
    "def merge_sort_rec_x(A,l,r):\n",
    "\n",
    "    if l < r:\n",
    "        m = (l+r) // 2\n",
    "        merge_sort_rec(A,l,m)\n",
    "        merge_sort_rec(A,m+1,r)\n",
    "        merge(A,l,m,r)"
   ]
  },
  {
   "cell_type": "code",
   "execution_count": 156,
   "metadata": {},
   "outputs": [],
   "source": [
    "def merge_sort_iter_x(A,n):\n",
    "    \n",
    "    k = 1\n",
    "\n",
    "    while k < n:\n",
    "        i = 0\n",
    "        while i+k < n:\n",
    "            l = i\n",
    "            m = i + k - 1\n",
    "            r = min(i+2*k-1,n-1)\n",
    "            merge(A,l,m,r)\n",
    "            i += 2*k\n",
    "        k *= 2"
   ]
  },
  {
   "cell_type": "code",
   "execution_count": 167,
   "metadata": {},
   "outputs": [],
   "source": [
    "def merge(A,l,m,r):\n",
    "    \n",
    "    c_ass = 0\n",
    "    c_cmp = 0\n",
    "    \n",
    "    B = (r-l+1) * [0]\n",
    "    i = 0\n",
    "    j = l\n",
    "    k = m+1\n",
    "    \n",
    "    while j<=m and k<=r:\n",
    "        c_cmp += 1\n",
    "        if A[j] < A[k]:\n",
    "            B[i] = A[j]\n",
    "            c_ass += 1\n",
    "            i += 1\n",
    "            j += 1\n",
    "        else:\n",
    "            B[i] = A[k]\n",
    "            c_ass += 1\n",
    "            i += 1\n",
    "            k += 1\n",
    "\n",
    "    while j<=m:\n",
    "        B[i] = A[j]\n",
    "        c_ass += 1\n",
    "        i += 1\n",
    "        j += 1\n",
    "\n",
    "    while k<=r:\n",
    "        B[i] = A[k]\n",
    "        c_ass += 1\n",
    "        i += 1\n",
    "        k += 1\n",
    "\n",
    "    for i in range(l,r+1):\n",
    "        c_ass += 1\n",
    "        A[i] = B[i-l]\n",
    "        \n",
    "    return (c_ass,c_cmp)"
   ]
  },
  {
   "cell_type": "code",
   "execution_count": 168,
   "metadata": {},
   "outputs": [],
   "source": [
    "def merge_sort_rec(A,l,r):\n",
    "\n",
    "    if l < r:\n",
    "        m = (l+r) // 2\n",
    "        (a,b) = merge_sort_rec(A,l,m)\n",
    "        (c,d) = merge_sort_rec(A,m+1,r)\n",
    "        (e,f) = merge(A,l,m,r)\n",
    "        \n",
    "        return (a+c+e,b+d+f)\n",
    "    else:\n",
    "        return (0,0)"
   ]
  },
  {
   "cell_type": "code",
   "execution_count": 175,
   "metadata": {},
   "outputs": [],
   "source": [
    "def merge_sort_iter(A,n):\n",
    "    \n",
    "    c_ass = 0\n",
    "    c_cmp = 0\n",
    "    \n",
    "    k = 1\n",
    "\n",
    "    while k < n:\n",
    "        i = 0\n",
    "        while i+k < n:\n",
    "            l = i\n",
    "            m = i + k - 1\n",
    "            r = min(i+2*k-1,n-1)\n",
    "            (a,b) = merge(A,l,m,r)\n",
    "            c_ass += a\n",
    "            c_cmp += b\n",
    "            i += 2*k\n",
    "        k *= 2\n",
    "        \n",
    "    return (c_ass,c_cmp)"
   ]
  },
  {
   "cell_type": "markdown",
   "metadata": {},
   "source": [
    "## Heap Sort"
   ]
  },
  {
   "cell_type": "code",
   "execution_count": 170,
   "metadata": {
    "scrolled": false
   },
   "outputs": [],
   "source": [
    "def sink_x(Q,i,n):\n",
    "    while i <= (n-1)//2:\n",
    "        j = 2*i\n",
    "        if j < n-1 and Q[j+1] > Q[j]:\n",
    "            j += 1\n",
    "\n",
    "        if Q[j] > Q[i]:\n",
    "            swap(Q,i,j)\n",
    "            i = j\n",
    "        else:\n",
    "            break"
   ]
  },
  {
   "cell_type": "code",
   "execution_count": 171,
   "metadata": {},
   "outputs": [],
   "source": [
    "def heap_sort_x(A,n):\n",
    "    \n",
    "    for i in range(n//2,0,-1):\n",
    "        sink(A,i,n)\n",
    "        \n",
    "    for i in range(n-1,1,-1):\n",
    "        swap(A,1,i)\n",
    "        sink(A,1,i)"
   ]
  },
  {
   "cell_type": "code",
   "execution_count": 172,
   "metadata": {},
   "outputs": [],
   "source": [
    "def sink(Q,i,n):\n",
    "    \n",
    "    c_ass = 0\n",
    "    c_cmp = 0\n",
    "    \n",
    "    while i <= (n-1)//2:\n",
    "        j = 2*i\n",
    "        c_cmp += 1\n",
    "        if j < n-1 and Q[j+1] > Q[j]:\n",
    "            j += 1\n",
    "\n",
    "        c_cmp += 1\n",
    "        if Q[j] > Q[i]:\n",
    "            swap(Q,i,j)\n",
    "            c_ass += 3\n",
    "            i = j\n",
    "        else:\n",
    "            break\n",
    "            \n",
    "    return (c_ass,c_cmp)"
   ]
  },
  {
   "cell_type": "code",
   "execution_count": 173,
   "metadata": {},
   "outputs": [],
   "source": [
    "def heap_sort(A,n):\n",
    "    \n",
    "    c_ass = 0\n",
    "    c_cmp = 0\n",
    "    \n",
    "    for i in range(n//2,0,-1):\n",
    "        (a,b) = sink(A,i,n)\n",
    "        c_ass += a\n",
    "        c_cmp += b\n",
    "        \n",
    "    for i in range(n-1,1,-1):\n",
    "        swap(A,1,i)\n",
    "        (a,b) = sink(A,1,i)\n",
    "        c_ass += a+3\n",
    "        c_cmp += b\n",
    "\n",
    "    return (c_ass,c_cmp)"
   ]
  },
  {
   "cell_type": "markdown",
   "metadata": {},
   "source": [
    "## Unit Test"
   ]
  },
  {
   "cell_type": "code",
   "execution_count": 176,
   "metadata": {},
   "outputs": [
    {
     "name": "stdout",
     "output_type": "stream",
     "text": [
      "QCK_average: (72, 37) [0, 1, 2, 3, 4, 5, 6, 7, 8, 9]\n",
      "QCK_best:    (81, 63) [0, 1, 2, 3, 4, 5, 6, 7, 8, 9]\n",
      "QCK_worst:   (72, 53) [-1, 0, 1, 2, 3, 4, 5, 6, 7, 8]\n",
      "QCK_average: (147, 101) [0, 1, 2, 3, 4, 5, 6, 7, 8, 9, 10, 11, 12, 13, 14, 15, 16, 17, 18, 19]\n",
      "QCK_average: (408, 334) [0, 1, 2, 3, 4, 5, 6, 7, 8, 9, 10, 11, 12, 13, 14, 15, 16, 17, 18, 19, 20, 21, 22, 23, 24, 25, 26, 27, 28, 29, 30, 31, 32, 33, 34, 35, 36, 37, 38, 39, 40, 41, 42, 43, 44, 45, 46, 47, 48, 49]\n",
      "\n",
      "MRGr_average: (68, 23) [0, 1, 2, 3, 4, 5, 6, 7, 8, 9]\n",
      "MRGr_best:    (68, 19) [0, 1, 2, 3, 4, 5, 6, 7, 8, 9]\n",
      "MRGr_worst:   (68, 15) [0, 1, 2, 3, 4, 5, 6, 7, 8, 9]\n",
      "MRGr_average: (176, 67) [0, 1, 2, 3, 4, 5, 6, 7, 8, 9, 10, 11, 12, 13, 14, 15, 16, 17, 18, 19]\n",
      "MRGr_average: (572, 218) [0, 1, 2, 3, 4, 5, 6, 7, 8, 9, 10, 11, 12, 13, 14, 15, 16, 17, 18, 19, 20, 21, 22, 23, 24, 25, 26, 27, 28, 29, 30, 31, 32, 33, 34, 35, 36, 37, 38, 39, 40, 41, 42, 43, 44, 45, 46, 47, 48, 49]\n",
      "\n",
      "MRGi_average: (72, 24) [0, 1, 2, 3, 4, 5, 6, 7, 8, 9]\n",
      "MRGi_best:    (72, 21) [0, 1, 2, 3, 4, 5, 6, 7, 8, 9]\n",
      "MRGi_worst:   (72, 15) [0, 1, 2, 3, 4, 5, 6, 7, 8, 9]\n",
      "MRGi_average: (184, 73) [0, 1, 2, 3, 4, 5, 6, 7, 8, 9, 10, 11, 12, 13, 14, 15, 16, 17, 18, 19]\n",
      "MRGi_average: (588, 235) [0, 1, 2, 3, 4, 5, 6, 7, 8, 9, 10, 11, 12, 13, 14, 15, 16, 17, 18, 19, 20, 21, 22, 23, 24, 25, 26, 27, 28, 29, 30, 31, 32, 33, 34, 35, 36, 37, 38, 39, 40, 41, 42, 43, 44, 45, 46, 47, 48, 49]\n",
      "\n",
      "HEAP_average: (81, 44) [0, 1, 2, 3, 4, 5, 6, 7, 8, 9]\n",
      "HEAP_best:    (90, 46) [0, 1, 2, 3, 4, 5, 6, 7, 8, 9]\n",
      "HEAP_worst:   (63, 38) [0, 1, 2, 3, 4, 5, 6, 7, 8, 9]\n",
      "HEAP_average: (213, 122) [0, 1, 2, 3, 4, 5, 6, 7, 8, 9, 10, 11, 12, 13, 14, 15, 16, 17, 18, 19]\n",
      "HEAP_average: (741, 424) [0, 1, 2, 3, 4, 5, 6, 7, 8, 9, 10, 11, 12, 13, 14, 15, 16, 17, 18, 19, 20, 21, 22, 23, 24, 25, 26, 27, 28, 29, 30, 31, 32, 33, 34, 35, 36, 37, 38, 39, 40, 41, 42, 43, 44, 45, 46, 47, 48, 49]\n"
     ]
    }
   ],
   "source": [
    "n = 10\n",
    "\n",
    "A = [5,8,2,3,9,1,4,7,0,6]\n",
    "print(\"QCK_average:\",quick_sort(A,0,n-1),A)\n",
    "B = [0,1,2,3,4,5,6,7,8,9]\n",
    "print(\"QCK_best:   \",quick_sort(B,0,n-1),B)\n",
    "C = [9,8,7,6,5,4,3,2,1,0]\n",
    "print(\"QCK_worst:  \",quick_sort(C,0,n-1),C)\n",
    "D = [16,5,13,8,10,2,17,3,14,9,1,15,4,18,7,11,0,19,6,12]\n",
    "print(\"QCK_average:\",quick_sort(D,0,2*n-1),D)\n",
    "E = [29,46,16,40,20,5,28,13,32,8,35,10,45,23,36,2,17,3,14,44,37,47,9,22,1,30,43,15,38,4,18,25,7,31,24,48,11,33,21,42,0,39,19,49,6,27,12,41,34,26]\n",
    "print(\"QCK_average:\",quick_sort(E,0,5*n-1),E)\n",
    "\n",
    "print()\n",
    "A = [5,8,2,3,9,1,4,7,0,6]\n",
    "print(\"MRGr_average:\",merge_sort_rec(A,0,n-1),A)\n",
    "B = [0,1,2,3,4,5,6,7,8,9]\n",
    "print(\"MRGr_best:   \",merge_sort_rec(B,0,n-1),B)\n",
    "C = [9,8,7,6,5,4,3,2,1,0]\n",
    "print(\"MRGr_worst:  \",merge_sort_rec(C,0,n-1),C)\n",
    "D = [16,5,13,8,10,2,17,3,14,9,1,15,4,18,7,11,0,19,6,12]\n",
    "print(\"MRGr_average:\",merge_sort_rec(D,0,2*n-1),D)\n",
    "E = [29,46,16,40,20,5,28,13,32,8,35,10,45,23,36,2,17,3,14,44,37,47,9,22,1,30,43,15,38,4,18,25,7,31,24,48,11,33,21,42,0,39,19,49,6,27,12,41,34,26]\n",
    "print(\"MRGr_average:\",merge_sort_rec(E,0,5*n-1),E)\n",
    "\n",
    "print()\n",
    "A = [5,8,2,3,9,1,4,7,0,6]\n",
    "print(\"MRGi_average:\",merge_sort_iter(A,n),A)\n",
    "B = [0,1,2,3,4,5,6,7,8,9]\n",
    "print(\"MRGi_best:   \",merge_sort_iter(B,n),B)\n",
    "C = [9,8,7,6,5,4,3,2,1,0]\n",
    "print(\"MRGi_worst:  \",merge_sort_iter(C,n),C)\n",
    "D = [16,5,13,8,10,2,17,3,14,9,1,15,4,18,7,11,0,19,6,12]\n",
    "print(\"MRGi_average:\",merge_sort_iter(D,2*n),D)\n",
    "E = [29,46,16,40,20,5,28,13,32,8,35,10,45,23,36,2,17,3,14,44,37,47,9,22,1,30,43,15,38,4,18,25,7,31,24,48,11,33,21,42,0,39,19,49,6,27,12,41,34,26]\n",
    "print(\"MRGi_average:\",merge_sort_iter(E,5*n),E)\n",
    "\n",
    "print()\n",
    "A = [-1,5,8,2,3,9,1,4,7,0,6]\n",
    "print(\"HEAP_average:\",heap_sort(A,n+1),A[1:])\n",
    "B = [-1,0,1,2,3,4,5,6,7,8,9]\n",
    "print(\"HEAP_best:   \",heap_sort(B,n+1),B[1:])\n",
    "C = [-1,9,8,7,6,5,4,3,2,1,0]\n",
    "print(\"HEAP_worst:  \",heap_sort(C,n+1),C[1:])\n",
    "D = [-1,16,5,13,8,10,2,17,3,14,9,1,15,4,18,7,11,0,19,6,12]\n",
    "print(\"HEAP_average:\",heap_sort(D,2*n+1),D[1:])\n",
    "E = [-1,29,46,16,40,20,5,28,13,32,8,35,10,45,23,36,2,17,3,14,44,37,47,9,22,1,30,43,15,38,4,18,25,7,31,24,48,11,33,21,42,0,39,19,49,6,27,12,41,34,26]\n",
    "print(\"HEAP_average:\",heap_sort(E,5*n+1),E[1:])"
   ]
  },
  {
   "cell_type": "code",
   "execution_count": null,
   "metadata": {},
   "outputs": [],
   "source": []
  }
 ],
 "metadata": {
  "kernelspec": {
   "display_name": "Python 3",
   "language": "python",
   "name": "python3"
  },
  "language_info": {
   "codemirror_mode": {
    "name": "ipython",
    "version": 3
   },
   "file_extension": ".py",
   "mimetype": "text/x-python",
   "name": "python",
   "nbconvert_exporter": "python",
   "pygments_lexer": "ipython3",
   "version": "3.8.5"
  }
 },
 "nbformat": 4,
 "nbformat_minor": 4
}

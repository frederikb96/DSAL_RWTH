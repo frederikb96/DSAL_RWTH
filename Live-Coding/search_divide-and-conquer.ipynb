{
 "cells": [
  {
   "cell_type": "code",
   "execution_count": 1,
   "metadata": {
    "pycharm": {
     "name": "#%%\n"
    }
   },
   "outputs": [],
   "source": [
    "def lin_search(a, x):\n",
    "    global counter\n",
    "    for i in range(len(a)):\n",
    "        counter += 2\n",
    "        if a[i] == x:\n",
    "            return i\n",
    "    return -1"
   ]
  },
  {
   "cell_type": "code",
   "execution_count": 2,
   "metadata": {
    "pycharm": {
     "name": "#%%\n"
    }
   },
   "outputs": [],
   "source": [
    "def bin_search(a, x, l, r):\n",
    "    global counter\n",
    "    counter += 1\n",
    "    if r >= l:        \n",
    "        m = l + (r - l) // 2\n",
    "        if a[m] == x:\n",
    "            counter += 1\n",
    "            return m\n",
    "        elif a[m] > x:\n",
    "            counter += 1\n",
    "            return bin_search(a, x, l, m - 1)\n",
    "        else:\n",
    "            counter += 1\n",
    "            return bin_search(a, x, m + 1, r)\n",
    "    else:\n",
    "        return -1"
   ]
  },
  {
   "cell_type": "code",
   "execution_count": 4,
   "metadata": {
    "pycharm": {
     "name": "#%%\n"
    }
   },
   "outputs": [
    {
     "name": "stdout",
     "output_type": "stream",
     "text": [
      "Linear-Search - Index: 15, Counter: 32\n",
      "Binary-Search - Index: 15, Counter: 2\n"
     ]
    }
   ],
   "source": [
    "a = list(range(32))\n",
    "x = 15\n",
    "\n",
    "counter = 0\n",
    "print(f\"Linear-Search - Index: {lin_search(a, x)}, Counter: {counter}\")\n",
    "\n",
    "counter = 0\n",
    "print(f\"Binary-Search - Index: {bin_search(a, x, 0, len(a) - 1)}, Counter: {counter}\")"
   ]
  },
  {
   "cell_type": "code",
   "execution_count": null,
   "metadata": {
    "pycharm": {
     "name": "#%%\n"
    }
   },
   "outputs": [],
   "source": []
  }
 ],
 "metadata": {
  "kernelspec": {
   "display_name": "Python 3 (ipykernel)",
   "language": "python",
   "name": "python3"
  },
  "language_info": {
   "codemirror_mode": {
    "name": "ipython",
    "version": 3
   },
   "file_extension": ".py",
   "mimetype": "text/x-python",
   "name": "python",
   "nbconvert_exporter": "python",
   "pygments_lexer": "ipython3",
   "version": "3.10.4"
  }
 },
 "nbformat": 4,
 "nbformat_minor": 4
}
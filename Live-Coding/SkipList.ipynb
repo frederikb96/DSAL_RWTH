{
 "cells": [
  {
   "cell_type": "code",
   "execution_count": null,
   "metadata": {},
   "outputs": [],
   "source": [
    "import random\n",
    "\n",
    "max_level = 10\n",
    "min_value = 0\n",
    "max_value = 999\n",
    "\n",
    "p = 0.5"
   ]
  },
  {
   "cell_type": "code",
   "execution_count": null,
   "metadata": {},
   "outputs": [],
   "source": [
    "def random_node_level():\n",
    "    v = 1\n",
    "    while random.random() < p and v < max_level:\n",
    "        v += 1\n",
    "    return v"
   ]
  },
  {
   "cell_type": "code",
   "execution_count": null,
   "metadata": {},
   "outputs": [],
   "source": [
    "class Node:\n",
    "    def __init__(self, value, level):\n",
    "        self.value = value\n",
    "        self.level = level\n",
    "        self.next  = level * [None]\n",
    "\n",
    "    \n",
    "class SkipList:\n",
    "    def __init__(self):\n",
    "        self.head = Node(min_value-1, max_level)\n",
    "        tail      = Node(max_value+1, max_level)\n",
    "        for i in range(max_level):\n",
    "            self.head.next[i] = tail\n",
    "            tail.next[i]      = None\n",
    "\n",
    "\n",
    "def create():\n",
    "    return SkipList()\n",
    "\n",
    "\n",
    "def isEmpty(list):\n",
    "    return list.head.next[0] == None\n",
    "\n",
    "\n",
    "def print_list(list):    \n",
    "    x = list.head\n",
    "    \n",
    "    while x != None:\n",
    "        str_out = \"[{:3d}\".format(x.value) + \"]\"        \n",
    "        \n",
    "        for i in range(max_level):\n",
    "            if i < x.level:\n",
    "                str_out += \" **\"\n",
    "            else:\n",
    "                str_out += \"  |\"\n",
    "        \n",
    "        print(str_out)\n",
    "\n",
    "        x = x.next[0]\n",
    "\n",
    "\n",
    "def search(list, value):\n",
    "    x = list.head\n",
    "    l = max_level-1\n",
    "    \n",
    "    while l >= 0:\n",
    "        print(\"l=\",l,\"v=\",x.value)\n",
    "        while value > x.next[l].value:\n",
    "            x = x.next[l]\n",
    "            print(\"l=\",l,\"v=\",x.value)\n",
    "        l -= 1\n",
    "    \n",
    "    return value == x.next[0].value\n",
    "\n",
    "\n",
    "def insert(list, value):\n",
    "    node = Node(value, random_node_level())\n",
    "    pred = max_level * [list.head]\n",
    "\n",
    "    x = list.head\n",
    "    l = max_level-1\n",
    "    \n",
    "    while l >= 0:\n",
    "        while value > x.next[l].value:\n",
    "            x = x.next[l]\n",
    "        pred[l] = x\n",
    "        l -= 1\n",
    "        \n",
    "    for i in range(node.level):\n",
    "        node.next[i] = pred[i].next[i]\n",
    "        pred[i].next[i] = node\n",
    "        \n",
    "\n",
    "def delete(list, value):\n",
    "    pred = max_level * [list.head]\n",
    "\n",
    "    x = list.head\n",
    "    l = max_level-1\n",
    "    \n",
    "    while l >= 0:\n",
    "        while value > x.next[l].value:\n",
    "            x = x.next[l]\n",
    "        pred[l] = x\n",
    "        l -= 1\n",
    " \n",
    "    x = x.next[0]\n",
    "\n",
    "    if value == x.value:\n",
    "        for i in range(x.level):\n",
    "            pred[i].next[i] = x.next[i]"
   ]
  },
  {
   "cell_type": "code",
   "execution_count": null,
   "metadata": {},
   "outputs": [],
   "source": [
    "X = create()\n",
    "\n",
    "for i in range(20):\n",
    "    insert(X,random.randint(min_value, max_value))\n",
    "\n",
    "print_list(X)"
   ]
  },
  {
   "cell_type": "code",
   "execution_count": null,
   "metadata": {
    "scrolled": false
   },
   "outputs": [],
   "source": [
    "search(X,996)"
   ]
  },
  {
   "cell_type": "code",
   "execution_count": null,
   "metadata": {
    "scrolled": true
   },
   "outputs": [],
   "source": [
    "delete(X,585)\n",
    "print_list(X)"
   ]
  }
 ],
 "metadata": {
  "kernelspec": {
   "display_name": "Python 3",
   "language": "python",
   "name": "python3"
  },
  "language_info": {
   "codemirror_mode": {
    "name": "ipython",
    "version": 3
   },
   "file_extension": ".py",
   "mimetype": "text/x-python",
   "name": "python",
   "nbconvert_exporter": "python",
   "pygments_lexer": "ipython3",
   "version": "3.8.5"
  }
 },
 "nbformat": 4,
 "nbformat_minor": 4
}

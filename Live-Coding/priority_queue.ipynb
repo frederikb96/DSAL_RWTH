{
 "cells": [
  {
   "cell_type": "markdown",
   "metadata": {
    "pycharm": {
     "name": "#%% md\n"
    }
   },
   "source": [
    "## priority queue implemented as an array / heap"
   ]
  },
  {
   "cell_type": "code",
   "execution_count": 1,
   "metadata": {
    "pycharm": {
     "name": "#%%\n"
    }
   },
   "outputs": [],
   "source": [
    "length = 10\n",
    "\n",
    "\n",
    "class PRIORITY_QUEUE:\n",
    "    def __init__(self):\n",
    "        self.back  = 1\n",
    "        self.items = length * [0]\n",
    "        \n",
    "    def __repr__(self):\n",
    "        return \"(\" + str(self.back) + \")  \" + str(self.items)\n",
    "\n",
    "\n",
    "def create():\n",
    "    return PRIORITY_QUEUE()\n",
    "\n",
    "\n",
    "def swap(i,j,queue):\n",
    "    temp              = queue.items[i]\n",
    "    queue.items[i]    = queue.items[j]\n",
    "    queue.items[j] = temp\n",
    "\n",
    "\n",
    "def enqq(item,queue):\n",
    "    i                       = queue.back\n",
    "    queue.items[queue.back] = item\n",
    "    queue.back             += 1\n",
    "\n",
    "    while i != 1 and queue.items[i] > queue.items[i//2]:\n",
    "        swap(i,i//2,queue)\n",
    "        i = i//2\n",
    "\n",
    "\n",
    "def deqq(queue):\n",
    "    i              = 1\n",
    "    queue.back    -= 1\n",
    "    queue.items[1] = queue.items[queue.back]\n",
    "    \n",
    "    while i <= (queue.back-1)//2:\n",
    "        j = 2*i\n",
    "        if j < queue.back-1 and queue.items[2*i+1] > queue.items[2*i]:\n",
    "            j = 2*i+1\n",
    "\n",
    "        if queue.items[j] > queue.items[i]:\n",
    "            swap(i,j,queue)\n",
    "            i = j\n",
    "        else:\n",
    "            break\n",
    "\n",
    "            \n",
    "def get(queue):\n",
    "    return queue.items[1]\n",
    "\n",
    "\n",
    "def isEmpty(queue):\n",
    "    return queue.back == 1\n",
    "\n",
    "\n",
    "def isFull(queue):\n",
    "    return queue.back == length"
   ]
  },
  {
   "cell_type": "markdown",
   "metadata": {
    "pycharm": {
     "name": "#%% md\n"
    }
   },
   "source": [
    "## unit test"
   ]
  },
  {
   "cell_type": "code",
   "execution_count": 2,
   "metadata": {
    "pycharm": {
     "name": "#%%\n"
    }
   },
   "outputs": [
    {
     "name": "stdout",
     "output_type": "stream",
     "text": [
      "(1)  [0, 0, 0, 0, 0, 0, 0, 0, 0, 0]\n",
      "(2)  [0, 1, 0, 0, 0, 0, 0, 0, 0, 0]\n",
      "(3)  [0, 7, 1, 0, 0, 0, 0, 0, 0, 0]\n",
      "(4)  [0, 7, 1, 2, 0, 0, 0, 0, 0, 0]\n",
      "(5)  [0, 7, 5, 2, 1, 0, 0, 0, 0, 0]\n",
      "(6)  [0, 9, 7, 2, 1, 5, 0, 0, 0, 0]\n",
      "(7)  [0, 9, 7, 6, 1, 5, 2, 0, 0, 0]\n",
      "\n",
      "9  ...  (7)  [0, 9, 7, 6, 1, 5, 2, 0, 0, 0]\n",
      "7  ...  (6)  [0, 7, 5, 6, 1, 2, 2, 0, 0, 0]\n",
      "6  ...  (5)  [0, 6, 5, 2, 1, 2, 2, 0, 0, 0]\n",
      "5  ...  (4)  [0, 5, 1, 2, 1, 2, 2, 0, 0, 0]\n",
      "2  ...  (3)  [0, 2, 1, 2, 1, 2, 2, 0, 0, 0]\n",
      "1  ...  (2)  [0, 1, 1, 2, 1, 2, 2, 0, 0, 0]\n"
     ]
    }
   ],
   "source": [
    "Q = create()\n",
    "print(Q)\n",
    "\n",
    "enqq(1,Q)\n",
    "print(Q)\n",
    "\n",
    "enqq(7,Q)\n",
    "print(Q)\n",
    "\n",
    "enqq(2,Q)\n",
    "print(Q)\n",
    "\n",
    "enqq(5,Q)\n",
    "print(Q)\n",
    "\n",
    "enqq(9,Q)\n",
    "print(Q)\n",
    "\n",
    "enqq(6,Q)\n",
    "print(Q)\n",
    "\n",
    "print()\n",
    "\n",
    "while not isEmpty(Q):\n",
    "    print(get(Q),\" ... \",Q)\n",
    "    deqq(Q)"
   ]
  },
  {
   "cell_type": "code",
   "execution_count": null,
   "metadata": {
    "pycharm": {
     "name": "#%%\n"
    }
   },
   "outputs": [],
   "source": []
  }
 ],
 "metadata": {
  "kernelspec": {
   "display_name": "Python 3 (ipykernel)",
   "language": "python",
   "name": "python3"
  },
  "language_info": {
   "codemirror_mode": {
    "name": "ipython",
    "version": 3
   },
   "file_extension": ".py",
   "mimetype": "text/x-python",
   "name": "python",
   "nbconvert_exporter": "python",
   "pygments_lexer": "ipython3",
   "version": "3.7.6"
  }
 },
 "nbformat": 4,
 "nbformat_minor": 4
}
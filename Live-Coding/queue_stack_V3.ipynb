{
 "cells": [
  {
   "cell_type": "markdown",
   "metadata": {
    "pycharm": {
     "name": "#%% md\n"
    }
   },
   "source": [
    "## Queue and Stack implementation based on arrays"
   ]
  },
  {
   "cell_type": "code",
   "execution_count": 1,
   "metadata": {
    "pycharm": {
     "name": "#%%\n"
    }
   },
   "outputs": [],
   "source": [
    "length = 4\n",
    "\n",
    "class ArrayQueue:\n",
    "    def __init__(self):\n",
    "        self.front = 0\n",
    "        self.back  = 0\n",
    "        self.items = length * [0]\n",
    "        \n",
    "    def __repr__(self):\n",
    "        return \"f:\" + str(self.front) + \"  b:\" + str(self.back) + \"  \" + str(self.items)"
   ]
  },
  {
   "cell_type": "markdown",
   "metadata": {
    "pycharm": {
     "name": "#%% md\n"
    }
   },
   "source": [
    "## queue implementation"
   ]
  },
  {
   "cell_type": "code",
   "execution_count": 2,
   "metadata": {
    "pycharm": {
     "name": "#%%\n"
    }
   },
   "outputs": [],
   "source": [
    "def create():\n",
    "    return ArrayQueue()\n",
    "\n",
    "def enq(item,queue):\n",
    "    queue.items[queue.back] = item\n",
    "    queue.back = (queue.back + 1) % length\n",
    "    \n",
    "def deq(queue):\n",
    "    queue.front = (queue.front + 1) % length\n",
    "    \n",
    "def get(queue):\n",
    "    return queue.items[queue.front]\n",
    "\n",
    "def isEmpty(queue):\n",
    "    return queue.back == queue.front\n",
    "\n",
    "def isFull(queue):\n",
    "    return (queue.back + 1) % length == queue.front     # maximum fill rate = length-1"
   ]
  },
  {
   "cell_type": "markdown",
   "metadata": {
    "pycharm": {
     "name": "#%% md\n"
    }
   },
   "source": [
    "## unit test: queue"
   ]
  },
  {
   "cell_type": "code",
   "execution_count": 3,
   "metadata": {
    "pycharm": {
     "name": "#%%\n"
    }
   },
   "outputs": [
    {
     "name": "stdout",
     "output_type": "stream",
     "text": [
      "f:0  b:0  [0, 0, 0, 0]\n",
      "f:0  b:1  [1, 0, 0, 0]\n",
      "f:0  b:2  [1, 2, 0, 0]\n",
      "f:0  b:3  [1, 2, 3, 0]\n",
      "1\n",
      "f:1  b:3  [1, 2, 3, 0]\n",
      "2\n",
      "f:1  b:0  [1, 2, 3, 4]\n",
      "f:2  b:0  [1, 2, 3, 4]\n",
      "3\n",
      "f:2  b:1  [5, 2, 3, 4]\n"
     ]
    }
   ],
   "source": [
    "Q = create()\n",
    "print(Q)\n",
    "\n",
    "enq(1,Q)\n",
    "print(Q)\n",
    "\n",
    "enq(2,Q)\n",
    "print(Q)\n",
    "\n",
    "enq(3,Q)\n",
    "print(Q)\n",
    "\n",
    "print(get(Q))\n",
    "\n",
    "deq(Q)\n",
    "print(Q)\n",
    "\n",
    "print(get(Q))\n",
    "\n",
    "enq(4,Q)\n",
    "print(Q)\n",
    "\n",
    "deq(Q)\n",
    "print(Q)\n",
    "\n",
    "print(get(Q))\n",
    "\n",
    "enq(5,Q)\n",
    "print(Q)"
   ]
  },
  {
   "cell_type": "markdown",
   "metadata": {
    "pycharm": {
     "name": "#%% md\n"
    }
   },
   "source": [
    "## array implementation: stack"
   ]
  },
  {
   "cell_type": "code",
   "execution_count": 4,
   "metadata": {
    "pycharm": {
     "name": "#%%\n"
    }
   },
   "outputs": [],
   "source": [
    "length = 4\n",
    "\n",
    "class ArrayStack:\n",
    "    def __init__(self):\n",
    "        self.top   = 0\n",
    "        self.items = length * [0]\n",
    "        \n",
    "    def __repr__(self):\n",
    "        return \"t:\" + str(self.top) + \"  \" + str(self.items)"
   ]
  },
  {
   "cell_type": "markdown",
   "metadata": {
    "pycharm": {
     "name": "#%% md\n"
    }
   },
   "source": [
    "## stack implementation"
   ]
  },
  {
   "cell_type": "code",
   "execution_count": 5,
   "metadata": {
    "pycharm": {
     "name": "#%%\n"
    }
   },
   "outputs": [],
   "source": [
    "def create():\n",
    "    return ArrayStack()\n",
    "\n",
    "def push(item,stack):\n",
    "    stack.items[stack.top] = item\n",
    "    stack.top += 1\n",
    "\n",
    "def pop(stack):\n",
    "    stack.top -= 1\n",
    "    \n",
    "def top(stack):\n",
    "    return stack.items[stack.top-1]\n",
    "\n",
    "def isEmpty(stack):\n",
    "    return stack.top == 0\n",
    "\n",
    "def isFull(stack):\n",
    "    return stack.top == length"
   ]
  },
  {
   "cell_type": "markdown",
   "metadata": {
    "pycharm": {
     "name": "#%% md\n"
    }
   },
   "source": [
    "## unit test: stack"
   ]
  },
  {
   "cell_type": "code",
   "execution_count": 6,
   "metadata": {
    "pycharm": {
     "name": "#%%\n"
    }
   },
   "outputs": [
    {
     "name": "stdout",
     "output_type": "stream",
     "text": [
      "t:0  [0, 0, 0, 0]\n",
      "t:1  [1, 0, 0, 0]\n",
      "t:2  [1, 2, 0, 0]\n",
      "t:3  [1, 2, 3, 0]\n",
      "3\n",
      "t:2  [1, 2, 3, 0]\n",
      "2\n",
      "t:3  [1, 2, 4, 0]\n",
      "t:4  [1, 2, 4, 5] True\n",
      "t:3  [1, 2, 4, 5] False\n",
      "t:4  [1, 2, 4, 6] True\n"
     ]
    }
   ],
   "source": [
    "S = create()\n",
    "print(S)\n",
    "\n",
    "push(1,S)\n",
    "print(S)\n",
    "\n",
    "push(2,S)\n",
    "print(S)\n",
    "\n",
    "push(3,S)\n",
    "print(S)\n",
    "\n",
    "print(top(S))\n",
    "\n",
    "pop(S)\n",
    "print(S)\n",
    "\n",
    "print(top(S))\n",
    "\n",
    "push(4,S)\n",
    "print(S)\n",
    "\n",
    "push(5,S)\n",
    "print(S, isFull(S))\n",
    "\n",
    "pop(S)\n",
    "print(S, isFull(S))\n",
    "\n",
    "push(6,S)\n",
    "print(S, isFull(S))"
   ]
  }
 ],
 "metadata": {
  "kernelspec": {
   "display_name": "Python 3.7.9 64-bit ('dsal': conda)",
   "name": "python379jvsc74a57bd0547c114a8eef8ad3c5b761cf221a4d3afb6535da2b2ba4a63617707fc7fbdff3"
  },
  "language_info": {
   "name": "python",
   "version": ""
  }
 },
 "nbformat": 4,
 "nbformat_minor": 4
}
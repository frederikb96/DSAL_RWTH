{
 "cells": [
  {
   "cell_type": "code",
   "execution_count": 127,
   "metadata": {
    "pycharm": {
     "name": "#%%\n"
    }
   },
   "outputs": [],
   "source": [
    "import numpy as np"
   ]
  },
  {
   "cell_type": "code",
   "execution_count": 128,
   "metadata": {
    "pycharm": {
     "name": "#%%\n"
    }
   },
   "outputs": [],
   "source": [
    "def swap(A,i,j):\n",
    "    temp = A[i]\n",
    "    A[i] = A[j]\n",
    "    A[j] = temp"
   ]
  },
  {
   "cell_type": "code",
   "execution_count": 129,
   "metadata": {
    "pycharm": {
     "name": "#%%\n"
    }
   },
   "outputs": [],
   "source": [
    "def sink(Q,i,n):\n",
    "    while i <= (n-1)//2:\n",
    "        j = 2*i\n",
    "        if j < n-1 and Q[j+1] > Q[j]:\n",
    "            j += 1\n",
    "\n",
    "        if Q[j] > Q[i]:\n",
    "            swap(Q,i,j)\n",
    "            i = j\n",
    "        else:\n",
    "            break\n",
    "\n",
    "def heap_sort(A,n):\n",
    "    \n",
    "    for i in range(n//2,0,-1):\n",
    "        sink(A,i,n)\n",
    "        \n",
    "    for i in range(n-1,1,-1):\n",
    "        swap(A,1,i)\n",
    "        sink(A,1,i)"
   ]
  },
  {
   "cell_type": "code",
   "execution_count": 130,
   "metadata": {
    "pycharm": {
     "name": "#%%\n"
    }
   },
   "outputs": [],
   "source": [
    "def partition(A,l,r):\n",
    "    i = l-1\n",
    "    j = r\n",
    "\n",
    "    while i < j:\n",
    "        i += 1\n",
    "        while A[i] < A[r]: i += 1\n",
    "        j -= 1\n",
    "        while A[j] > A[r]: j -= 1\n",
    "        swap(A,i,j)\n",
    "\n",
    "    swap(A,i,j)\n",
    "    swap(A,i,r)\n",
    "    return i"
   ]
  },
  {
   "cell_type": "markdown",
   "metadata": {
    "pycharm": {
     "name": "#%% md\n"
    }
   },
   "source": [
    "## partition select"
   ]
  },
  {
   "cell_type": "code",
   "execution_count": 131,
   "metadata": {
    "pycharm": {
     "name": "#%%\n"
    }
   },
   "outputs": [],
   "source": [
    "def partition_select(A,l,r,k):\n",
    "    ## print(l,r,k)\n",
    "    if l == r:\n",
    "        return A[l]\n",
    "    else:\n",
    "        m = partition(A,l,r)\n",
    "        i = m - l + 1\n",
    "        if k == i:\n",
    "            return A[m]\n",
    "        elif k < i:\n",
    "            return partition_select(A,l,m-1,k)\n",
    "        else:\n",
    "            return partition_select(A,m+1,r,k-i)"
   ]
  },
  {
   "cell_type": "code",
   "execution_count": 132,
   "metadata": {
    "pycharm": {
     "name": "#%%\n"
    }
   },
   "outputs": [
    {
     "name": "stdout",
     "output_type": "stream",
     "text": [
      "41\n"
     ]
    }
   ],
   "source": [
    "A = [41,76,10,32,91,21,52,19,83,62]\n",
    "B = [10,19,21,32,41,52,62,76,83,91]\n",
    "\n",
    "print(partition_select(A,0,len(A)-1,5))"
   ]
  },
  {
   "cell_type": "code",
   "execution_count": 133,
   "metadata": {
    "pycharm": {
     "name": "#%%\n"
    }
   },
   "outputs": [],
   "source": [
    "def select(A,k):\n",
    "    n = len(A)\n",
    "    \n",
    "    if n < 50:\n",
    "        return partition_select(A,0,n-1,k)\n",
    "    \n",
    "    M = []\n",
    "    for i in range(0,n-4,5):\n",
    "        M = M + [partition_select(A,i,i+4,3)]\n",
    "    \n",
    "    median = select(M,len(M)//2)\n",
    "        \n",
    "    S1 = [x for x in A if x  < median]\n",
    "    S2 = [x for x in A if x == median]\n",
    "    S3 = [x for x in A if x  > median]\n",
    "    \n",
    "    ## print(len(S1),\"+\",len(S2),\"+\",len(S3),\"=\",len(A))\n",
    "    \n",
    "    if len(S1) >= k:\n",
    "        ## print(len(S1),k)\n",
    "        return select(S1,k)\n",
    "    elif len(S1) + len(S2) >= k:\n",
    "        return median\n",
    "    else:\n",
    "        ## print(len(S3),k-len(S1)-len(S2))\n",
    "        return select(S3,k-len(S1)-len(S2))"
   ]
  },
  {
   "cell_type": "code",
   "execution_count": 136,
   "metadata": {
    "pycharm": {
     "name": "#%%\n"
    }
   },
   "outputs": [
    {
     "name": "stdout",
     "output_type": "stream",
     "text": [
      "*****    42\n",
      "*****    42\n"
     ]
    }
   ],
   "source": [
    "n = 1000\n",
    "k = 42\n",
    "A = list(np.random.randint(low=1, high=n, size=n))\n",
    "\n",
    "print(\"*****   \",select(A,k))\n",
    "\n",
    "A = [-1] + A\n",
    "heap_sort(A,n+1)\n",
    "\n",
    "print(\"*****   \",A[k])"
   ]
  },
  {
   "cell_type": "code",
   "execution_count": null,
   "metadata": {
    "pycharm": {
     "name": "#%%\n"
    }
   },
   "outputs": [],
   "source": []
  }
 ],
 "metadata": {
  "kernelspec": {
   "display_name": "Python 3 (ipykernel)",
   "language": "python",
   "name": "python3"
  },
  "language_info": {
   "codemirror_mode": {
    "name": "ipython",
    "version": 3
   },
   "file_extension": ".py",
   "mimetype": "text/x-python",
   "name": "python",
   "nbconvert_exporter": "python",
   "pygments_lexer": "ipython3",
   "version": "3.10.4"
  }
 },
 "nbformat": 4,
 "nbformat_minor": 4
}
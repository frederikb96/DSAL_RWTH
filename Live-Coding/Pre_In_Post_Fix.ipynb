{
 "cells": [
  {
   "cell_type": "code",
   "execution_count": 1,
   "metadata": {
    "pycharm": {
     "name": "#%%\n"
    }
   },
   "outputs": [
    {
     "name": "stdout",
     "output_type": "stream",
     "text": [
      "prefix: +A/*B+CDE\n",
      "postfix: ABCD+*E/+\n",
      "infix: (A+((B*(C+D))/E))\n"
     ]
    }
   ],
   "source": [
    "class Node:\n",
    "    def __init__(self, left, value, right):\n",
    "        self.value = value\n",
    "        self.left = left\n",
    "        self.right = right\n",
    "\n",
    "        \n",
    "output = \"\"\n",
    "\n",
    "\n",
    "def isLeaf(T):\n",
    "    return T.left == T.right\n",
    "\n",
    "\n",
    "def traverse_prefix(T):\n",
    "    global output\n",
    "\n",
    "    if T != None:\n",
    "        output += T.value\n",
    "        traverse_prefix(T.left)\n",
    "        traverse_prefix(T.right)\n",
    "\n",
    "\n",
    "def traverse_postfix(T):\n",
    "    global output\n",
    "\n",
    "    if T != None:\n",
    "        traverse_postfix(T.left)\n",
    "        traverse_postfix(T.right)\n",
    "        output += T.value\n",
    "\n",
    "        \n",
    "def traverse_infix(T):\n",
    "    global output\n",
    "\n",
    "    if isLeaf(T):\n",
    "        output += T.value\n",
    "    else:\n",
    "        output += \"(\"\n",
    "        traverse_infix(T.left)\n",
    "        output += T.value\n",
    "        traverse_infix(T.right)\n",
    "        output += \")\"\n",
    "\n",
    "\n",
    "A = Node(None,\"A\",None)\n",
    "B = Node(None,\"B\",None)\n",
    "C = Node(None,\"C\",None)\n",
    "D = Node(None,\"D\",None)\n",
    "E = Node(None,\"E\",None)\n",
    "\n",
    "H1 = Node(C,\"+\",D)\n",
    "H2 = Node(B,\"*\",H1)\n",
    "H3 = Node(H2,\"/\",E)\n",
    "H4 = Node(A,\"+\",H3)\n",
    "\n",
    "output = \"\"\n",
    "traverse_prefix(H4)\n",
    "print(\"prefix:\",output)\n",
    "\n",
    "output = \"\"\n",
    "traverse_postfix(H4)\n",
    "print(\"postfix:\",output)\n",
    "\n",
    "output = \"\"\n",
    "traverse_infix(H4)\n",
    "print(\"infix:\",output)"
   ]
  },
  {
   "cell_type": "code",
   "execution_count": null,
   "metadata": {
    "pycharm": {
     "name": "#%%\n"
    }
   },
   "outputs": [],
   "source": []
  }
 ],
 "metadata": {
  "kernelspec": {
   "display_name": "Python 3 (ipykernel)",
   "language": "python",
   "name": "python3"
  },
  "language_info": {
   "codemirror_mode": {
    "name": "ipython",
    "version": 3
   },
   "file_extension": ".py",
   "mimetype": "text/x-python",
   "name": "python",
   "nbconvert_exporter": "python",
   "pygments_lexer": "ipython3",
   "version": "3.7.6"
  }
 },
 "nbformat": 4,
 "nbformat_minor": 4
}